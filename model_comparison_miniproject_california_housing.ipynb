{
  "nbformat": 4,
  "nbformat_minor": 0,
  "metadata": {
    "colab": {
      "name": "model_comparison_miniproject_california_housing.ipynb",
      "version": "0.3.2",
      "provenance": [],
      "include_colab_link": true
    },
    "kernelspec": {
      "name": "python3",
      "display_name": "Python 3"
    }
  },
  "cells": [
    {
      "cell_type": "markdown",
      "metadata": {
        "id": "view-in-github",
        "colab_type": "text"
      },
      "source": [
        "<a href=\"https://colab.research.google.com/github/siddhantwade/datascienceshowcase/blob/master/model_comparison_miniproject_california_housing.ipynb\" target=\"_parent\"><img src=\"https://colab.research.google.com/assets/colab-badge.svg\" alt=\"Open In Colab\"/></a>"
      ]
    },
    {
      "cell_type": "markdown",
      "metadata": {
        "id": "3Ayd7Ep4p90B",
        "colab_type": "text"
      },
      "source": [
        "# Model Comparison Mini Project - California Housing\n",
        "\n",
        "This is an on going project thgat compares the performance of various models on the task of prediciting the value of a real estate property as observed in the popular California Housing Data Set. \n",
        "\n",
        "To limit the scope of this project we shall be using a pre-cleaned dataset that does not show any missing value or null values. \n",
        "\n"
      ]
    },
    {
      "cell_type": "code",
      "metadata": {
        "id": "T246DzLhsM-s",
        "colab_type": "code",
        "colab": {}
      },
      "source": [
        "#importing required libraries\n",
        "\n",
        "import pandas as pd\n",
        "import numpy as np\n",
        "import sklearn as sk\n",
        "import seaborn as sns\n",
        "import matplotlib.pyplot as plt\n",
        "\n",
        "#importing required models and model methods as required\n",
        "from sklearn.model_selection import train_test_split\n",
        "from sklearn.linear_model import LinearRegression\n",
        "from sklearn.ensemble import GradientBoostingRegressor\n",
        "from sklearn.tree import DecisionTreeRegressor, export_graphviz\n",
        "from sklearn.metrics import confusion_matrix\n",
        "from sklearn.tree import plot_tree\n",
        "from sklearn.ensemble import AdaBoostClassifier\n",
        "from sklearn.model_selection import cross_val_score\n",
        "import graphviz\n",
        "import pickle"
      ],
      "execution_count": 0,
      "outputs": []
    },
    {
      "cell_type": "code",
      "metadata": {
        "id": "8GD1XsPm6Loy",
        "colab_type": "code",
        "colab": {}
      },
      "source": [
        "#getting data\n",
        "# I have combined the classicially available test and training sets into a single dataframe\n",
        "# I have done this so during splitting I can shuffle the data as per my needs to tune performance\n",
        "# the .append function can be used to combine the two sets available in sklearn library\n",
        "# When using colab, the data sets are available in the Sample Data repo under the Files section of your notebook\n",
        "\n",
        "df1 = pd.read_csv(\"/content/sample_data/california_housing_train.csv\")\n",
        "df2 = pd.read_csv(\"/content/sample_data/california_housing_test.csv\")\n",
        "\n",
        "#sampledata = pd.read_csv(\"data.csv\")\n",
        "\n",
        "df = df1.append(df2)\n",
        "\n",
        "#creating a copy of the data set to store original file for later use\n",
        "originaldf = df"
      ],
      "execution_count": 0,
      "outputs": []
    },
    {
      "cell_type": "code",
      "metadata": {
        "id": "YAUHfNb2UC_d",
        "colab_type": "code",
        "outputId": "001bbfd0-d77c-44ee-b0a3-938592746dfc",
        "colab": {
          "base_uri": "https://localhost:8080/",
          "height": 204
        }
      },
      "source": [
        "#let's take a look at the data\n",
        "df.head()"
      ],
      "execution_count": 0,
      "outputs": [
        {
          "output_type": "execute_result",
          "data": {
            "text/html": [
              "<div>\n",
              "<style scoped>\n",
              "    .dataframe tbody tr th:only-of-type {\n",
              "        vertical-align: middle;\n",
              "    }\n",
              "\n",
              "    .dataframe tbody tr th {\n",
              "        vertical-align: top;\n",
              "    }\n",
              "\n",
              "    .dataframe thead th {\n",
              "        text-align: right;\n",
              "    }\n",
              "</style>\n",
              "<table border=\"1\" class=\"dataframe\">\n",
              "  <thead>\n",
              "    <tr style=\"text-align: right;\">\n",
              "      <th></th>\n",
              "      <th>longitude</th>\n",
              "      <th>latitude</th>\n",
              "      <th>housing_median_age</th>\n",
              "      <th>total_rooms</th>\n",
              "      <th>total_bedrooms</th>\n",
              "      <th>population</th>\n",
              "      <th>households</th>\n",
              "      <th>median_income</th>\n",
              "      <th>median_house_value</th>\n",
              "    </tr>\n",
              "  </thead>\n",
              "  <tbody>\n",
              "    <tr>\n",
              "      <th>0</th>\n",
              "      <td>-114.31</td>\n",
              "      <td>34.19</td>\n",
              "      <td>15.0</td>\n",
              "      <td>5612.0</td>\n",
              "      <td>1283.0</td>\n",
              "      <td>1015.0</td>\n",
              "      <td>472.0</td>\n",
              "      <td>1.4936</td>\n",
              "      <td>66900.0</td>\n",
              "    </tr>\n",
              "    <tr>\n",
              "      <th>1</th>\n",
              "      <td>-114.47</td>\n",
              "      <td>34.40</td>\n",
              "      <td>19.0</td>\n",
              "      <td>7650.0</td>\n",
              "      <td>1901.0</td>\n",
              "      <td>1129.0</td>\n",
              "      <td>463.0</td>\n",
              "      <td>1.8200</td>\n",
              "      <td>80100.0</td>\n",
              "    </tr>\n",
              "    <tr>\n",
              "      <th>2</th>\n",
              "      <td>-114.56</td>\n",
              "      <td>33.69</td>\n",
              "      <td>17.0</td>\n",
              "      <td>720.0</td>\n",
              "      <td>174.0</td>\n",
              "      <td>333.0</td>\n",
              "      <td>117.0</td>\n",
              "      <td>1.6509</td>\n",
              "      <td>85700.0</td>\n",
              "    </tr>\n",
              "    <tr>\n",
              "      <th>3</th>\n",
              "      <td>-114.57</td>\n",
              "      <td>33.64</td>\n",
              "      <td>14.0</td>\n",
              "      <td>1501.0</td>\n",
              "      <td>337.0</td>\n",
              "      <td>515.0</td>\n",
              "      <td>226.0</td>\n",
              "      <td>3.1917</td>\n",
              "      <td>73400.0</td>\n",
              "    </tr>\n",
              "    <tr>\n",
              "      <th>4</th>\n",
              "      <td>-114.57</td>\n",
              "      <td>33.57</td>\n",
              "      <td>20.0</td>\n",
              "      <td>1454.0</td>\n",
              "      <td>326.0</td>\n",
              "      <td>624.0</td>\n",
              "      <td>262.0</td>\n",
              "      <td>1.9250</td>\n",
              "      <td>65500.0</td>\n",
              "    </tr>\n",
              "  </tbody>\n",
              "</table>\n",
              "</div>"
            ],
            "text/plain": [
              "   longitude  latitude  ...  median_income  median_house_value\n",
              "0    -114.31     34.19  ...         1.4936             66900.0\n",
              "1    -114.47     34.40  ...         1.8200             80100.0\n",
              "2    -114.56     33.69  ...         1.6509             85700.0\n",
              "3    -114.57     33.64  ...         3.1917             73400.0\n",
              "4    -114.57     33.57  ...         1.9250             65500.0\n",
              "\n",
              "[5 rows x 9 columns]"
            ]
          },
          "metadata": {
            "tags": []
          },
          "execution_count": 5
        }
      ]
    },
    {
      "cell_type": "code",
      "metadata": {
        "id": "DPuDEjmbUIL-",
        "colab_type": "code",
        "outputId": "5d9fa236-b48f-4b0e-a235-37ee6b59cfff",
        "colab": {
          "base_uri": "https://localhost:8080/",
          "height": 255
        }
      },
      "source": [
        "df.info()"
      ],
      "execution_count": 0,
      "outputs": [
        {
          "output_type": "stream",
          "text": [
            "<class 'pandas.core.frame.DataFrame'>\n",
            "Int64Index: 20000 entries, 0 to 2999\n",
            "Data columns (total 9 columns):\n",
            "longitude             20000 non-null float64\n",
            "latitude              20000 non-null float64\n",
            "housing_median_age    20000 non-null float64\n",
            "total_rooms           20000 non-null float64\n",
            "total_bedrooms        20000 non-null float64\n",
            "population            20000 non-null float64\n",
            "households            20000 non-null float64\n",
            "median_income         20000 non-null float64\n",
            "median_house_value    20000 non-null float64\n",
            "dtypes: float64(9)\n",
            "memory usage: 1.5 MB\n"
          ],
          "name": "stdout"
        }
      ]
    },
    {
      "cell_type": "code",
      "metadata": {
        "id": "Xc-11bcPr_e3",
        "colab_type": "code",
        "outputId": "45055779-35f8-49bb-b84b-426946c5defa",
        "colab": {
          "base_uri": "https://localhost:8080/",
          "height": 468
        }
      },
      "source": [
        "#let us plot the data coloumns to understand their distribution\n",
        "# as we can see here many features show skew while some show a slightly gaussian distribution\n",
        "plt.figure()\n",
        "\n",
        "df.hist(alpha = 0.5)"
      ],
      "execution_count": 0,
      "outputs": [
        {
          "output_type": "execute_result",
          "data": {
            "text/plain": [
              "array([[<matplotlib.axes._subplots.AxesSubplot object at 0x7fc60c0f4dd8>,\n",
              "        <matplotlib.axes._subplots.AxesSubplot object at 0x7fc609858eb8>,\n",
              "        <matplotlib.axes._subplots.AxesSubplot object at 0x7fc609888470>],\n",
              "       [<matplotlib.axes._subplots.AxesSubplot object at 0x7fc60982f9e8>,\n",
              "        <matplotlib.axes._subplots.AxesSubplot object at 0x7fc6097d7f60>,\n",
              "        <matplotlib.axes._subplots.AxesSubplot object at 0x7fc609806518>],\n",
              "       [<matplotlib.axes._subplots.AxesSubplot object at 0x7fc6097afa90>,\n",
              "        <matplotlib.axes._subplots.AxesSubplot object at 0x7fc609761080>,\n",
              "        <matplotlib.axes._subplots.AxesSubplot object at 0x7fc6097610b8>]],\n",
              "      dtype=object)"
            ]
          },
          "metadata": {
            "tags": []
          },
          "execution_count": 10
        },
        {
          "output_type": "display_data",
          "data": {
            "text/plain": [
              "<Figure size 432x288 with 0 Axes>"
            ]
          },
          "metadata": {
            "tags": []
          }
        },
        {
          "output_type": "display_data",
          "data": {
            "image/png": "[encoded data removed]",
            "text/plain": [
              "<Figure size 432x288 with 9 Axes>"
            ]
          },
          "metadata": {
            "tags": []
          }
        }
      ]
    },
    {
      "cell_type": "code",
      "metadata": {
        "id": "zzKZd6VkUKub",
        "colab_type": "code",
        "outputId": "fd7395cf-850b-4e1a-f171-451b5634261d",
        "colab": {
          "base_uri": "https://localhost:8080/",
          "height": 317
        }
      },
      "source": [
        "df.describe()"
      ],
      "execution_count": 0,
      "outputs": [
        {
          "output_type": "execute_result",
          "data": {
            "text/html": [
              "<div>\n",
              "<style scoped>\n",
              "    .dataframe tbody tr th:only-of-type {\n",
              "        vertical-align: middle;\n",
              "    }\n",
              "\n",
              "    .dataframe tbody tr th {\n",
              "        vertical-align: top;\n",
              "    }\n",
              "\n",
              "    .dataframe thead th {\n",
              "        text-align: right;\n",
              "    }\n",
              "</style>\n",
              "<table border=\"1\" class=\"dataframe\">\n",
              "  <thead>\n",
              "    <tr style=\"text-align: right;\">\n",
              "      <th></th>\n",
              "      <th>longitude</th>\n",
              "      <th>latitude</th>\n",
              "      <th>housing_median_age</th>\n",
              "      <th>total_rooms</th>\n",
              "      <th>total_bedrooms</th>\n",
              "      <th>population</th>\n",
              "      <th>households</th>\n",
              "      <th>median_income</th>\n",
              "      <th>median_house_value</th>\n",
              "    </tr>\n",
              "  </thead>\n",
              "  <tbody>\n",
              "    <tr>\n",
              "      <th>count</th>\n",
              "      <td>20000.000000</td>\n",
              "      <td>20000.000000</td>\n",
              "      <td>20000.000000</td>\n",
              "      <td>20000.000000</td>\n",
              "      <td>20000.000000</td>\n",
              "      <td>20000.000000</td>\n",
              "      <td>20000.000000</td>\n",
              "      <td>20000.000000</td>\n",
              "      <td>20000.000000</td>\n",
              "    </tr>\n",
              "    <tr>\n",
              "      <th>mean</th>\n",
              "      <td>-119.566172</td>\n",
              "      <td>35.626750</td>\n",
              "      <td>28.627750</td>\n",
              "      <td>2637.051550</td>\n",
              "      <td>537.991800</td>\n",
              "      <td>1425.557650</td>\n",
              "      <td>499.525450</td>\n",
              "      <td>3.872132</td>\n",
              "      <td>207082.716750</td>\n",
              "    </tr>\n",
              "    <tr>\n",
              "      <th>std</th>\n",
              "      <td>2.003609</td>\n",
              "      <td>2.136141</td>\n",
              "      <td>12.582229</td>\n",
              "      <td>2176.314757</td>\n",
              "      <td>420.631119</td>\n",
              "      <td>1131.048487</td>\n",
              "      <td>381.729517</td>\n",
              "      <td>1.900356</td>\n",
              "      <td>115557.055856</td>\n",
              "    </tr>\n",
              "    <tr>\n",
              "      <th>min</th>\n",
              "      <td>-124.350000</td>\n",
              "      <td>32.540000</td>\n",
              "      <td>1.000000</td>\n",
              "      <td>2.000000</td>\n",
              "      <td>1.000000</td>\n",
              "      <td>3.000000</td>\n",
              "      <td>1.000000</td>\n",
              "      <td>0.499900</td>\n",
              "      <td>14999.000000</td>\n",
              "    </tr>\n",
              "    <tr>\n",
              "      <th>25%</th>\n",
              "      <td>-121.790000</td>\n",
              "      <td>33.930000</td>\n",
              "      <td>18.000000</td>\n",
              "      <td>1451.000000</td>\n",
              "      <td>296.000000</td>\n",
              "      <td>788.000000</td>\n",
              "      <td>280.000000</td>\n",
              "      <td>2.562500</td>\n",
              "      <td>119800.000000</td>\n",
              "    </tr>\n",
              "    <tr>\n",
              "      <th>50%</th>\n",
              "      <td>-118.490000</td>\n",
              "      <td>34.250000</td>\n",
              "      <td>29.000000</td>\n",
              "      <td>2126.000000</td>\n",
              "      <td>434.000000</td>\n",
              "      <td>1166.000000</td>\n",
              "      <td>409.000000</td>\n",
              "      <td>3.536000</td>\n",
              "      <td>179800.000000</td>\n",
              "    </tr>\n",
              "    <tr>\n",
              "      <th>75%</th>\n",
              "      <td>-118.000000</td>\n",
              "      <td>37.710000</td>\n",
              "      <td>37.000000</td>\n",
              "      <td>3149.000000</td>\n",
              "      <td>647.000000</td>\n",
              "      <td>1724.000000</td>\n",
              "      <td>604.000000</td>\n",
              "      <td>4.745325</td>\n",
              "      <td>265000.000000</td>\n",
              "    </tr>\n",
              "    <tr>\n",
              "      <th>max</th>\n",
              "      <td>-114.310000</td>\n",
              "      <td>41.950000</td>\n",
              "      <td>52.000000</td>\n",
              "      <td>37937.000000</td>\n",
              "      <td>6445.000000</td>\n",
              "      <td>35682.000000</td>\n",
              "      <td>6082.000000</td>\n",
              "      <td>15.000100</td>\n",
              "      <td>500001.000000</td>\n",
              "    </tr>\n",
              "  </tbody>\n",
              "</table>\n",
              "</div>"
            ],
            "text/plain": [
              "          longitude      latitude  ...  median_income  median_house_value\n",
              "count  20000.000000  20000.000000  ...   20000.000000        20000.000000\n",
              "mean    -119.566172     35.626750  ...       3.872132       207082.716750\n",
              "std        2.003609      2.136141  ...       1.900356       115557.055856\n",
              "min     -124.350000     32.540000  ...       0.499900        14999.000000\n",
              "25%     -121.790000     33.930000  ...       2.562500       119800.000000\n",
              "50%     -118.490000     34.250000  ...       3.536000       179800.000000\n",
              "75%     -118.000000     37.710000  ...       4.745325       265000.000000\n",
              "max     -114.310000     41.950000  ...      15.000100       500001.000000\n",
              "\n",
              "[8 rows x 9 columns]"
            ]
          },
          "metadata": {
            "tags": []
          },
          "execution_count": 96
        }
      ]
    },
    {
      "cell_type": "markdown",
      "metadata": {
        "id": "e87ZqWNa-jSZ",
        "colab_type": "text"
      },
      "source": [
        "**Note:** It can be seen above that some features have very large std deviation. This will negatively affect linear models that prefer relatively narrow distribution. "
      ]
    },
    {
      "cell_type": "markdown",
      "metadata": {
        "id": "CtqMs424BCis",
        "colab_type": "text"
      },
      "source": [
        "#Observing co-relation in the features \n",
        "Building a co-relation matrix allows us to visualise how the features scale w.r.t each other. Here-in we can observe that the Number of rooms and population of a property show significant co-relation. I will not be removing any of these features though, since in this use case they depict a ground reality which I want my models to absorb."
      ]
    },
    {
      "cell_type": "code",
      "metadata": {
        "id": "jww0Bz_XXNQo",
        "colab_type": "code",
        "outputId": "48a44a0b-8aa0-40fb-c3d2-ef71b9dc8221",
        "colab": {
          "base_uri": "https://localhost:8080/",
          "height": 653
        }
      },
      "source": [
        "#building coorelation matrix\n",
        "\n",
        "corr = df.corr()\n",
        "\n",
        "mask = np.zeros_like(corr, dtype=np.bool)\n",
        "mask[np.triu_indices_from(mask)] = True\n",
        "\n",
        "f, ax = plt.subplots(figsize=(11, 9))\n",
        "\n",
        "# Generate a custom diverging colormap\n",
        "cmap = sns.diverging_palette(220, 10, as_cmap=True)\n",
        "\n",
        "# Draw the heatmap with the mask and correct aspect ratio\n",
        "sns.heatmap(corr, mask=mask, cmap=cmap, vmax=.3, center=0,\n",
        "            square=True, linewidths=.5, cbar_kws={\"shrink\": .5})"
      ],
      "execution_count": 0,
      "outputs": [
        {
          "output_type": "execute_result",
          "data": {
            "text/plain": [
              "<matplotlib.axes._subplots.AxesSubplot at 0x7fe2de2b1208>"
            ]
          },
          "metadata": {
            "tags": []
          },
          "execution_count": 7
        },
        {
          "output_type": "display_data",
          "data": {
            "image/png": "[encoded data removed]",
            "text/plain": [
              "<Figure size 792x648 with 2 Axes>"
            ]
          },
          "metadata": {
            "tags": []
          }
        }
      ]
    },
    {
      "cell_type": "markdown",
      "metadata": {
        "id": "76C40WMlB3im",
        "colab_type": "text"
      },
      "source": [
        "#Dropping features\n",
        "You may choose to drop features based on your hypothesis"
      ]
    },
    {
      "cell_type": "code",
      "metadata": {
        "id": "ZPGfkwuzY9F8",
        "colab_type": "code",
        "colab": {}
      },
      "source": [
        "# we will now use df as the modelling set\n",
        "#use list of \"\",\"\",\"\" enclosed in box braces to drop multiple cols\n",
        "\n",
        "df = dforiginal.drop(\"total_bedrooms\", axis = 1) \n",
        "\n",
        "#let's take a look at our modelling dataframe now\n",
        "\n",
        "df.info()"
      ],
      "execution_count": 0,
      "outputs": []
    },
    {
      "cell_type": "markdown",
      "metadata": {
        "id": "gKLeqJqICEDK",
        "colab_type": "text"
      },
      "source": [
        "#Defining Features and Target"
      ]
    },
    {
      "cell_type": "code",
      "metadata": {
        "id": "HFnRCvks6Rvh",
        "colab_type": "code",
        "colab": {}
      },
      "source": [
        "#defining features\n",
        "x = df.iloc[:,:-1]\n",
        "#defining targets\n",
        "y = df.iloc[:,-1:]\n",
        "\n"
      ],
      "execution_count": 0,
      "outputs": []
    },
    {
      "cell_type": "markdown",
      "metadata": {
        "id": "-F4--QByCOtI",
        "colab_type": "text"
      },
      "source": [
        "# Splitting the data\n",
        "\n",
        "**Note** - The train_test_split method has Shuffe activated by default hence each time we execute this, it will generate different training and test set, which will induce variance in our models. Since the data shows a healthy amount of skew, our models are likely to suffer significantly."
      ]
    },
    {
      "cell_type": "code",
      "metadata": {
        "id": "VRtz0Paxevnd",
        "colab_type": "code",
        "colab": {}
      },
      "source": [
        "#splitting the data\n",
        "xtrain,xtest,ytrain,ytest = train_test_split(x,y,test_size = 30)\n"
      ],
      "execution_count": 0,
      "outputs": []
    },
    {
      "cell_type": "markdown",
      "metadata": {
        "id": "IJN3hyHgCUcN",
        "colab_type": "text"
      },
      "source": [
        "# Tracking scores\n",
        "\n",
        "I am creating 2 lists viz. \"scorelist\" and \"iteration\" to track the scores of models over a few iterations. Usually I will do this to observe how the model performance changes as we adjust either data parameters of model hyper parameters. The obersvation is made using a simple 2D plot."
      ]
    },
    {
      "cell_type": "code",
      "metadata": {
        "id": "-tGWFj9Xhc8P",
        "colab_type": "code",
        "colab": {}
      },
      "source": [
        "scorelist = []\n",
        "iteration = [1,2,3,4,5,6,7,8,9,10]"
      ],
      "execution_count": 0,
      "outputs": []
    },
    {
      "cell_type": "markdown",
      "metadata": {
        "id": "7_8aPzk3D0Hq",
        "colab_type": "text"
      },
      "source": [
        "#Using a Linear Model\n",
        "\n",
        "Variance - is the measure of how much a model changes if the data changes. This can be observed by changing/shuffling data\n",
        "\n",
        "**To observe varaiance, split the data before fitting the model again, the model will then show you a different score on each such fit**"
      ]
    },
    {
      "cell_type": "code",
      "metadata": {
        "id": "lNS5RQHO67ny",
        "colab_type": "code",
        "outputId": "6cc63d61-5115-4380-b9c6-8c6b2056ff69",
        "colab": {
          "base_uri": "https://localhost:8080/",
          "height": 102
        }
      },
      "source": [
        "#Fitting Linear Regressor\n",
        "\n",
        "LR = LinearRegression()\n",
        "LR.fit(xtrain,ytrain)\n",
        "\n",
        "\n",
        "traininglossLR = LR.score(xtrain,ytrain)\n",
        "testinglossLR = LR.score(xtest,ytest)\n",
        "print(\"Training loss - \", traininglossLR)\n",
        "print(\"Testing loss - \", testinglossLR)\n",
        "\n",
        "print(\"Feature Weights are - \\n\", LR.coef_)\n",
        "\n",
        "#Un-comment this below code and run this cell 10 times if you wish to observe the model accuracy over 10 cycles.\n",
        "#scorelist.append(testinglossLR)\n",
        "\n"
      ],
      "execution_count": 0,
      "outputs": [
        {
          "output_type": "stream",
          "text": [
            "Training loss -  0.6383456316551955\n",
            "Testing loss -  0.572104255560611\n",
            "Feature Weights are - \n",
            " [[-4.30818276e+04 -4.28273559e+04  1.15497107e+03 -8.37326991e+00\n",
            "   1.14171545e+02 -3.82459179e+01  4.78929887e+01  4.03546336e+04]]\n"
          ],
          "name": "stdout"
        }
      ]
    },
    {
      "cell_type": "markdown",
      "metadata": {
        "id": "H1MFFESuqFi7",
        "colab_type": "text"
      },
      "source": [
        "Linaer models although showing high variance will show minor differences in the weights of the features, in this case which are coefficients. A small change in the weights leads to a major change in the accuracy. As long as the data remains largely unchanged Linear Models will show minimal variance error.\n",
        "\n",
        "[[-4.31256136e+04 -4.28653669e+04  1.15814662e+03 -8.35045320e+00\n",
        "   1.14339474e+02 -3.81945464e+01  4.75119304e+01  4.03497459e+04]]\n",
        "   \n",
        "   [[-4.31154190e+04 -4.28257153e+04  1.15609145e+03 -8.35542878e+00\n",
        "   1.14296057e+02 -3.82486762e+01  4.77164593e+01  4.03488523e+04]]\n",
        "   \n",
        " \n",
        " \n",
        " [[-4.30709016e+04 -4.27887044e+04  1.15567844e+03 -8.42090820e+00\n",
        "   1.14457051e+02 -3.82395169e+01  4.78606659e+01  4.03884341e+04]]\n",
        "   \n",
        " [[-4.30749755e+04 -4.28063310e+04  1.15452294e+03 -8.35519986e+00\n",
        "   1.14134633e+02 -3.82429840e+01  4.78399847e+01  4.03514761e+04]]"
      ]
    },
    {
      "cell_type": "code",
      "metadata": {
        "id": "Cbh2HGTPhmOn",
        "colab_type": "code",
        "outputId": "40801156-1581-4468-9239-d1c16ede5f38",
        "colab": {
          "base_uri": "https://localhost:8080/",
          "height": 286
        }
      },
      "source": [
        "plt.plot(iteration, scorelist)"
      ],
      "execution_count": 0,
      "outputs": [
        {
          "output_type": "execute_result",
          "data": {
            "text/plain": [
              "[<matplotlib.lines.Line2D at 0x7f354839d748>]"
            ]
          },
          "metadata": {
            "tags": []
          },
          "execution_count": 191
        },
        {
          "output_type": "display_data",
          "data": {
            "image/png": "[encoded data removed]",
            "text/plain": [
              "<Figure size 432x288 with 1 Axes>"
            ]
          },
          "metadata": {
            "tags": []
          }
        }
      ]
    },
    {
      "cell_type": "markdown",
      "metadata": {
        "id": "i3_dXj9LEyB0",
        "colab_type": "text"
      },
      "source": [
        "Below code will run the Linear Model for a set number of iterations"
      ]
    },
    {
      "cell_type": "code",
      "metadata": {
        "id": "9JtEZ39fbWG-",
        "colab_type": "code",
        "outputId": "e239b6d5-4df4-4631-a186-165547fa45ce",
        "colab": {
          "base_uri": "https://localhost:8080/",
          "height": 286
        }
      },
      "source": [
        "scorelist = []\n",
        "iteration = [1,2,3,4,5,6,7,8,9,10]\n",
        "\n",
        "for i in iteration:\n",
        "  \n",
        "  #splitting to display variance\n",
        "  xtrain,xtest,ytrain,ytest = train_test_split(x,y,test_size = 30, shuffle = True)\n",
        "\n",
        "  #Fitting Linear Regressor\n",
        "\n",
        "  LR = LinearRegression()\n",
        "  LR.fit(xtrain,ytrain)\n",
        "\n",
        "\n",
        "  traininglossLR = LR.score(xtrain,ytrain)\n",
        "  testinglossLR = LR.score(xtest,ytest)\n",
        "  #print(traininglossLR)\n",
        "  #print(testinglossLR)\n",
        "\n",
        "  #print(LR.get_params())\n",
        "  \n",
        "  scorelist.append(testinglossLR)\n",
        "  \n",
        "plt.plot(iteration, scorelist)"
      ],
      "execution_count": 0,
      "outputs": [
        {
          "output_type": "execute_result",
          "data": {
            "text/plain": [
              "[<matplotlib.lines.Line2D at 0x7f3548193f28>]"
            ]
          },
          "metadata": {
            "tags": []
          },
          "execution_count": 204
        },
        {
          "output_type": "display_data",
          "data": {
            "image/png": "[encoded data removed]",
            "text/plain": [
              "<Figure size 432x288 with 1 Axes>"
            ]
          },
          "metadata": {
            "tags": []
          }
        }
      ]
    },
    {
      "cell_type": "code",
      "metadata": {
        "id": "md4dTaQOcDyB",
        "colab_type": "code",
        "outputId": "58604c0b-64d4-447d-cf7a-ffbe443ba680",
        "colab": {
          "base_uri": "https://localhost:8080/",
          "height": 34
        }
      },
      "source": [
        "print(scorelist)"
      ],
      "execution_count": 0,
      "outputs": [
        {
          "output_type": "stream",
          "text": [
            "[0.7667300423265966, 0.5680314407698085, 0.5474306207153067, 0.03324451356936653, -0.04725886241146715]\n"
          ],
          "name": "stdout"
        }
      ]
    },
    {
      "cell_type": "code",
      "metadata": {
        "id": "yWsPVkYfd6bG",
        "colab_type": "code",
        "colab": {}
      },
      "source": [
        "# in case your scorelist and iterationlist length does not match, adjust either one of them\n",
        "scorelist = scorelist[:-1]"
      ],
      "execution_count": 0,
      "outputs": []
    },
    {
      "cell_type": "markdown",
      "metadata": {
        "id": "z8hCHmWdFMOP",
        "colab_type": "text"
      },
      "source": [
        "#Fitting regularised liear regreesions\n",
        "\n",
        "Regularising regression is an excellent way to optimise the weight generation for better performance and increasing fit by penalising stronger features.\n",
        "\n",
        "Commong regularisation techniques \n",
        "L1 - Lasso (Penalises to 0, but consists of feature selection)\n",
        "L2 - Ridge (Penalises to some minimum value, no feature selection)"
      ]
    },
    {
      "cell_type": "code",
      "metadata": {
        "id": "KrmGH3qA-Gq-",
        "colab_type": "code",
        "outputId": "59187c39-b507-4680-a86c-9d415409ce39",
        "colab": {
          "base_uri": "https://localhost:8080/",
          "height": 51
        }
      },
      "source": [
        "#Using Ridge Regression (L2 regularisation)\n",
        "from sklearn.linear_model import Ridge\n",
        "\n",
        "ridgeLR = Ridge(alpha = 1)\n",
        "ridgeLR.fit(xtrain,ytrain)\n",
        "\n",
        "\n",
        "traininglossridgeLR = ridgeLR.score(xtrain,ytrain)\n",
        "testinglossridgeLR = ridgeLR.score(xtest,ytest)\n",
        "\n",
        "print(traininglossridgeLR)\n",
        "print(testinglossridgeLR)"
      ],
      "execution_count": 0,
      "outputs": [
        {
          "output_type": "stream",
          "text": [
            "0.6380914029531282\n",
            "0.7003599410978696\n"
          ],
          "name": "stdout"
        }
      ]
    },
    {
      "cell_type": "code",
      "metadata": {
        "id": "TtRWjzJ_BEQW",
        "colab_type": "code",
        "outputId": "7287c478-c5ae-4ccc-8231-7a7d05e8ad3d",
        "colab": {
          "base_uri": "https://localhost:8080/",
          "height": 51
        }
      },
      "source": [
        "from sklearn.linear_model import Lasso\n",
        "\n",
        "lassoLR = Ridge(alpha = 1)\n",
        "lassoLR.fit(xtrain,ytrain)\n",
        "\n",
        "traininglosslassoLR = lassoLR.score(xtrain,ytrain)\n",
        "testinglosslassoLR = lassoLR.score(xtest,ytest)\n",
        "\n",
        "print(traininglosslassoLR)\n",
        "print(testinglosslassoLR)\n"
      ],
      "execution_count": 0,
      "outputs": [
        {
          "output_type": "stream",
          "text": [
            "0.6388938053782709\n",
            "0.6518172539668234\n"
          ],
          "name": "stdout"
        }
      ]
    },
    {
      "cell_type": "markdown",
      "metadata": {
        "id": "6iQ1NrF3770F",
        "colab_type": "text"
      },
      "source": [
        "**Analysis on using Linear Regression**\n",
        "\n",
        "**Vanilla version of LR -**\n",
        "\n",
        "Training loss : 0.6388938079\n",
        "\n",
        "Testing loss  : 0.6518185676146591\n",
        "\n",
        "\n",
        "**Ride Regression L2 -**\n",
        " \n",
        "0.6388938053782709\n",
        "\n",
        "0.6518172539668234\n",
        "\n",
        "\n",
        "**Lasso Regression l1 -**\n",
        "\n",
        "0.6388938053782709\n",
        "\n",
        "0.6518172539668234\n",
        "\n",
        "\n",
        "**Analysis -**\n",
        "\n",
        "Although linear regression does not fit the data very well, it will not show high degree of variance, that is if we retrain the model on the same data on each such training iteration the model will perform almost the same. \n",
        "\n",
        "However complex models will although fit the data better, they will show high degree of variance that is the will perform differently after re-training on same data and also if the data changes slightly. \n",
        "\n",
        "Below is an example Ransac regressor - \n",
        "Basically the below model auto-decides which data points are outliers and models only on inliers. This model will show varaince even without resplitting data. \n",
        "\n",
        "**the only updside is that Ransac will not overfit the data easily**"
      ]
    },
    {
      "cell_type": "markdown",
      "metadata": {
        "id": "b47whcE-Cp5M",
        "colab_type": "text"
      },
      "source": [
        "# Using Ransac Regressor\n",
        "\n",
        "RANSAC (RANdom SAmple Consensus) algorithm.\n",
        "\n",
        "RANSAC is an iterative algorithm for the robust estimation of parameters from a subset of inliers from the complete data set. More information can be found in the general documentation of linear models.\n",
        "\n",
        "**We are going to run Ransac multiple times and record observations**\n",
        "\n"
      ]
    },
    {
      "cell_type": "code",
      "metadata": {
        "id": "WT7DESEb7wd5",
        "colab_type": "code",
        "outputId": "812c5344-7f58-487d-86c6-29a4c439fcbe",
        "colab": {
          "base_uri": "https://localhost:8080/",
          "height": 51
        }
      },
      "source": [
        "from sklearn.linear_model import RANSACRegressor\n",
        "\n",
        "ransacR = RANSACRegressor()\n",
        "ransacR.fit(xtrain, ytrain)\n",
        "\n",
        "#ransacR.score(xtrain,ytrain)\n",
        "traininglossransacR = ransacR.score(xtrain,ytrain)\n",
        "testinglossransacR = ransacR.score(xtest,ytest)\n",
        "\n",
        "print(traininglossransacR)\n",
        "print(testinglossransacR)"
      ],
      "execution_count": 0,
      "outputs": [
        {
          "output_type": "stream",
          "text": [
            "0.49074592331207934\n",
            "0.35309512714307695\n"
          ],
          "name": "stdout"
        }
      ]
    },
    {
      "cell_type": "markdown",
      "metadata": {
        "id": "zSUGqI3_DX3e",
        "colab_type": "text"
      },
      "source": [
        "**Observations**\n",
        "\n",
        "Iteration 1 - \n",
        "\n",
        "0.40279365680595725\n",
        "\n",
        "0.5978635223695535\n",
        "\n",
        "Iteration 2 - \n",
        "\n",
        "0.4895082652701116\n",
        "\n",
        "\n",
        "0.6170210282185535\n",
        "\n",
        "Iteration 3 - **Best fit**\n",
        "\n",
        "0.5582286892065771\n",
        "\n",
        "0.767279356068632\n",
        "\n",
        "Iteration 4 - \n",
        "\n",
        "0.41852707293959845\n",
        "\n",
        "0.6489107521146353\n",
        "\n",
        "Accuracy of saved and loaded model\n",
        "0.7119229578158638"
      ]
    },
    {
      "cell_type": "markdown",
      "metadata": {
        "id": "3d5Qr4vYFTj0",
        "colab_type": "text"
      },
      "source": [
        "# Saving and Re-using Models\n",
        "When working with complex models, its better to save the best model for later use."
      ]
    },
    {
      "cell_type": "code",
      "metadata": {
        "id": "mmCfq4teCLS1",
        "colab_type": "code",
        "colab": {}
      },
      "source": [
        "#saving the model using pickle\n",
        "\n",
        "import pickle\n",
        "\n",
        "filename = 'finalized_model.sav'\n",
        "pickle.dump(ransacR, open(filename, 'wb'))"
      ],
      "execution_count": 0,
      "outputs": []
    },
    {
      "cell_type": "code",
      "metadata": {
        "id": "RxpipMzoErau",
        "colab_type": "code",
        "outputId": "135b8a7d-0a6a-46e8-a7ce-e7a6895bf211",
        "colab": {
          "base_uri": "https://localhost:8080/",
          "height": 34
        }
      },
      "source": [
        "#Loading and using a pre-saved model\n",
        "\n",
        "loaded_model = pickle.load(open(filename, 'rb'))\n",
        "result = loaded_model.score(xtest, ytest)\n",
        "print(result)"
      ],
      "execution_count": 0,
      "outputs": [
        {
          "output_type": "stream",
          "text": [
            "0.7119229578158638\n"
          ],
          "name": "stdout"
        }
      ]
    },
    {
      "cell_type": "markdown",
      "metadata": {
        "id": "IDBE0YRsF4lp",
        "colab_type": "text"
      },
      "source": [
        "# **Using a highly complex models**\n",
        "\n",
        "The magic with decision trees is that although this algorithm fits the data very optimistically we have the capability to prune the tree and prevent it from overfitting data to our own liking. Meaning we have the ability to define how complex we want the model to be."
      ]
    },
    {
      "cell_type": "code",
      "metadata": {
        "id": "aJURmpNjFrdM",
        "colab_type": "code",
        "outputId": "1a26623d-594f-4d41-f42f-3ef6fae72e2a",
        "colab": {
          "base_uri": "https://localhost:8080/",
          "height": 51
        }
      },
      "source": [
        "dtree = DecisionTreeRegressor(max_depth = 7) #max_depth = 15\n",
        "dtree.fit(xtrain,ytrain)\n",
        "\n",
        "#ransacR.score(xtrain,ytrain)\n",
        "traininglossdtree = dtree.score(xtrain,ytrain)\n",
        "testinglossdtree = dtree.score(xtest,ytest)\n",
        "\n",
        "print(traininglossdtree)\n",
        "print(testinglossdtree)"
      ],
      "execution_count": 0,
      "outputs": [
        {
          "output_type": "stream",
          "text": [
            "0.706731577794109\n",
            "0.7961259250161956\n"
          ],
          "name": "stdout"
        }
      ]
    },
    {
      "cell_type": "markdown",
      "metadata": {
        "id": "V856yvEDGhQC",
        "colab_type": "text"
      },
      "source": [
        "**Analysis of Dtree**\n",
        "\n",
        "Iteration 1 - \n",
        "\n",
        "\n",
        "1.0\n",
        "\n",
        "0.1992289373083762\n",
        "\n",
        "This means that the tree is showing no training loss, means it fits the training data 100% but performs very poorly on test data, this is another way of detecting variance.\n",
        "\n",
        "---\n",
        "\n",
        "Iteration 2 -\n",
        "\n",
        "0.9997253857001949\n",
        "\n",
        "0.4521182121500316\n",
        "\n",
        "When we reduced the complexity of the tree to a max depth of 25 levels immediately we see a drop in ability to fit data but we see a substantial increase in ability to predict test data, this is the justification that variance has reduced in our model\n",
        "\n",
        "---\n",
        "\n",
        "\n",
        "Iteration 3- max depth 15\n",
        "\n",
        "0.9557919969594201\n",
        "\n",
        "0.7201287095240858\n",
        "\n",
        "\n",
        "By reduct depth of tree to 15, we have marginally reduced the training accuracy but signifianctly gained prediction accuracy. This is a good tradeoff\n",
        "\n",
        "---\n",
        "\n",
        "\n",
        "**THE DEVIL OF DATA**\n",
        "\n",
        "Now i re-split the data by executing the train test split method above, the same model that was giving us excellent result of ~71% now performs poorly on new data.\n",
        "\n",
        "0.9561743947897237\n",
        "\n",
        "0.6980553120732594\n"
      ]
    },
    {
      "cell_type": "markdown",
      "metadata": {
        "id": "H6_9m5RRI85E",
        "colab_type": "text"
      },
      "source": [
        "**let's save the current model and test if on different data**\n",
        "\n",
        "I will save the model\n",
        "Run the split again\n",
        "Import the saved model \n",
        "Test it on the new data\n",
        "Asses results"
      ]
    },
    {
      "cell_type": "code",
      "metadata": {
        "id": "XNt7xOYGGc4J",
        "colab_type": "code",
        "colab": {}
      },
      "source": [
        "filename = 'dtree.sav'\n",
        "pickle.dump(dtree, open(filename, 'wb'))\n",
        "\n"
      ],
      "execution_count": 0,
      "outputs": []
    },
    {
      "cell_type": "code",
      "metadata": {
        "id": "QX-1aW7tIuz4",
        "colab_type": "code",
        "outputId": "5a8213ce-fdbf-4cad-d950-b5520d4184ce",
        "colab": {
          "base_uri": "https://localhost:8080/",
          "height": 34
        }
      },
      "source": [
        "loaded_dtree = pickle.load(open(filename, 'rb'))\n",
        "result = loaded_dtree.score(xtest, ytest)\n",
        "print(result)"
      ],
      "execution_count": 0,
      "outputs": [
        {
          "output_type": "stream",
          "text": [
            "0.7961259250161956\n"
          ],
          "name": "stdout"
        }
      ]
    },
    {
      "cell_type": "markdown",
      "metadata": {
        "id": "1JR0JYZ7JMYE",
        "colab_type": "text"
      },
      "source": [
        "As you can see above that the exported model which was earlier performing poorly, is not giving accuracy of 0.9665740174940533 on test data.\n",
        "\n",
        "--- \n",
        "\n",
        "On repeating the steps again the model gives an accuracy of \n",
        "0.9379607777538903\n",
        "\n",
        "This is a problem of variance that complex models will show, they perform poorly or unpredictably when data changes, this can be a huge issue to compensate in production. \n",
        "\n"
      ]
    },
    {
      "cell_type": "markdown",
      "metadata": {
        "id": "ryfMQy0TLFgx",
        "colab_type": "text"
      },
      "source": [
        "# Visualising your Dtrees\n",
        "\n",
        "In case of highly complex trees, the visualisation will take some time to complete."
      ]
    },
    {
      "cell_type": "code",
      "metadata": {
        "id": "M5JEcyDAKC30",
        "colab_type": "code",
        "outputId": "b71e6443-91d9-4a1f-c0ae-e17b41fd232f",
        "colab": {
          "base_uri": "https://localhost:8080/",
          "height": 306
        }
      },
      "source": [
        "#sklearn has a plot_tree function to plot trees in terminal\n",
        "#for larger trees without pruning, the execution will take 5-10mins\n",
        "#if the tree is big then you won't be able to see individual node parameters\n",
        "#for detailed visualisation you can use Graphviz library for quick results\n",
        "\n",
        "\n",
        "print(plot_tree(dtree))"
      ],
      "execution_count": 0,
      "outputs": [
        {
          "output_type": "stream",
          "text": [
            "[Text(171.09759036144578, 203.85, 'X[7] <= 5.075\\nmse = 13348609658.173\\nsamples = 19970\\nvalue = 207043.427'), Text(86.05301204819277, 176.67000000000002, 'X[7] <= 3.074\\nmse = 8420359738.165\\nsamples = 15848\\nvalue = 174204.235'), Text(43.026506024096385, 149.49, 'X[1] <= 34.455\\nmse = 5611083185.182\\nsamples = 7599\\nvalue = 135683.411'), Text(21.513253012048192, 122.31, 'X[0] <= -118.305\\nmse = 5566456347.098\\nsamples = 3690\\nvalue = 157366.566'), Text(10.756626506024096, 95.13, 'X[0] <= -118.355\\nmse = 8941876333.542\\nsamples = 679\\nvalue = 224643.471'), Text(5.378313253012048, 67.94999999999999, 'X[1] <= 34.165\\nmse = 8642695192.933\\nsamples = 416\\nvalue = 241128.637'), Text(2.689156626506024, 40.77000000000001, 'X[0] <= -118.385\\nmse = 11377248754.553\\nsamples = 154\\nvalue = 297411.11'), Text(1.344578313253012, 13.590000000000003, 'mse = 7367833269.65\\nsamples = 82\\nvalue = 345318.378'), Text(4.033734939759036, 13.590000000000003, 'mse = 10352747738.941\\nsamples = 72\\nvalue = 242850.056'), Text(8.067469879518072, 40.77000000000001, 'X[0] <= -119.425\\nmse = 4078998777.573\\nsamples = 262\\nvalue = 208046.573'), Text(6.72289156626506, 13.590000000000003, 'mse = 4622843093.06\\nsamples = 50\\nvalue = 270774.02'), Text(9.412048192771085, 13.590000000000003, 'mse = 2803861992.061\\nsamples = 212\\nvalue = 193252.363'), Text(16.134939759036143, 67.94999999999999, 'X[1] <= 34.045\\nmse = 8305322369.469\\nsamples = 263\\nvalue = 198568.076'), Text(13.44578313253012, 40.77000000000001, 'X[1] <= 33.89\\nmse = 3512267160.494\\nsamples = 162\\nvalue = 158288.889'), Text(12.101204819277108, 13.590000000000003, 'mse = 8675613333.333\\nsamples = 9\\nvalue = 322633.333'), Text(14.790361445783132, 13.590000000000003, 'mse = 1526313456.363\\nsamples = 153\\nvalue = 148621.569'), Text(18.82409638554217, 40.77000000000001, 'X[6] <= 892.0\\nmse = 9216943244.347\\nsamples = 101\\nvalue = 263174.297'), Text(17.479518072289157, 13.590000000000003, 'mse = 7501105076.419\\nsamples = 80\\nvalue = 247881.262'), Text(20.16867469879518, 13.590000000000003, 'mse = 11468378003.297\\nsamples = 21\\nvalue = 321433.476'), Text(32.26987951807229, 95.13, 'X[0] <= -117.775\\nmse = 3554423218.827\\nsamples = 3011\\nvalue = 142195.188'), Text(26.89156626506024, 67.94999999999999, 'X[1] <= 34.045\\nmse = 2991640567.212\\nsamples = 1675\\nvalue = 159111.943'), Text(24.202409638554215, 40.77000000000001, 'X[1] <= 33.885\\nmse = 2545991620.67\\nsamples = 1159\\nvalue = 147359.277'), Text(22.857831325301206, 13.590000000000003, 'mse = 3431469870.59\\nsamples = 355\\nvalue = 179153.806'), Text(25.54698795180723, 13.590000000000003, 'mse = 1511580834.109\\nsamples = 804\\nvalue = 133320.648'), Text(29.580722891566264, 40.77000000000001, 'X[0] <= -118.235\\nmse = 2985525555.304\\nsamples = 516\\nvalue = 185509.89'), Text(28.23614457831325, 13.590000000000003, 'mse = 3329156391.565\\nsamples = 203\\nvalue = 209664.039'), Text(30.925301204819277, 13.590000000000003, 'mse = 2138866433.394\\nsamples = 313\\nvalue = 169844.419'), Text(37.64819277108434, 67.94999999999999, 'X[0] <= -116.405\\nmse = 3451383460.796\\nsamples = 1336\\nvalue = 120985.933'), Text(34.95903614457831, 40.77000000000001, 'X[1] <= 33.535\\nmse = 3450079011.842\\nsamples = 1183\\nvalue = 127406.514'), Text(33.6144578313253, 13.590000000000003, 'mse = 3943916854.665\\nsamples = 616\\nvalue = 147442.7'), Text(36.30361445783132, 13.590000000000003, 'mse = 2003588875.758\\nsamples = 567\\nvalue = 105638.806'), Text(40.33734939759036, 40.77000000000001, 'X[4] <= 21.5\\nmse = 678188577.043\\nsamples = 153\\nvalue = 71341.83'), Text(38.99277108433735, 13.590000000000003, 'mse = 3600000000.0\\nsamples = 2\\nvalue = 215000.0'), Text(41.681927710843375, 13.590000000000003, 'mse = 362521983.246\\nsamples = 151\\nvalue = 69439.073'), Text(64.53975903614457, 122.31, 'X[0] <= -121.725\\nmse = 4790437076.184\\nsamples = 3909\\nvalue = 115215.045'), Text(53.78313253012048, 95.13, 'X[1] <= 37.905\\nmse = 7208693831.235\\nsamples = 1553\\nvalue = 149922.865'), Text(48.40481927710843, 67.94999999999999, 'X[0] <= -122.305\\nmse = 8434865468.951\\nsamples = 753\\nvalue = 195833.879'), Text(45.71566265060241, 40.77000000000001, 'X[1] <= 37.755\\nmse = 10581483823.233\\nsamples = 155\\nvalue = 284132.31'), Text(44.371084337349394, 13.590000000000003, 'mse = 3006772333.507\\nsamples = 62\\nvalue = 239237.097'), Text(47.06024096385542, 13.590000000000003, 'mse = 13391757992.355\\nsamples = 93\\nvalue = 314062.452'), Text(51.09397590361446, 40.77000000000001, 'X[1] <= 37.595\\nmse = 5333804736.601\\nsamples = 598\\nvalue = 172947.162'), Text(49.74939759036145, 13.590000000000003, 'mse = 5054276319.425\\nsamples = 208\\nvalue = 213589.913'), Text(52.438554216867466, 13.590000000000003, 'mse = 4132054051.407\\nsamples = 390\\nvalue = 151271.028'), Text(59.16144578313253, 67.94999999999999, 'X[1] <= 38.855\\nmse = 2203145512.782\\nsamples = 800\\nvalue = 106709.122'), Text(56.4722891566265, 40.77000000000001, 'X[0] <= -122.385\\nmse = 2651502553.54\\nsamples = 328\\nvalue = 138784.146'), Text(55.12771084337349, 13.590000000000003, 'mse = 3023218281.289\\nsamples = 109\\nvalue = 167622.936'), Text(57.81686746987952, 13.590000000000003, 'mse = 1846529794.625\\nsamples = 219\\nvalue = 124430.594'), Text(61.850602409638554, 40.77000000000001, 'X[7] <= 2.519\\nmse = 679823187.371\\nsamples = 472\\nvalue = 84419.699'), Text(60.50602409638554, 13.590000000000003, 'mse = 578769262.528\\nsamples = 351\\nvalue = 78968.655'), Text(63.195180722891564, 13.590000000000003, 'mse = 636732101.632\\nsamples = 121\\nvalue = 100232.231'), Text(75.29638554216868, 95.13, 'X[0] <= -119.895\\nmse = 1878927936.113\\nsamples = 2356\\nvalue = 92336.758'), Text(69.91807228915663, 67.94999999999999, 'X[1] <= 35.705\\nmse = 2172722809.079\\nsamples = 1486\\nvalue = 103975.641'), Text(67.2289156626506, 40.77000000000001, 'X[0] <= -120.645\\nmse = 5343691704.071\\nsamples = 117\\nvalue = 164964.12'), Text(65.88433734939758, 13.590000000000003, 'mse = 4380773184.513\\nsamples = 38\\nvalue = 217389.5'), Text(68.57349397590362, 13.590000000000003, 'mse = 3848931863.496\\nsamples = 79\\nvalue = 139746.848'), Text(72.60722891566265, 40.77000000000001, 'X[7] <= 2.368\\nmse = 1556660614.818\\nsamples = 1369\\nvalue = 98763.332'), Text(71.26265060240964, 13.590000000000003, 'mse = 1590361794.282\\nsamples = 764\\nvalue = 89349.216'), Text(73.95180722891565, 13.590000000000003, 'mse = 1260854960.344\\nsamples = 605\\nvalue = 110651.57'), Text(80.67469879518072, 67.94999999999999, 'X[7] <= 2.332\\nmse = 750530353.04\\nsamples = 870\\nvalue = 72457.01'), Text(77.9855421686747, 40.77000000000001, 'X[4] <= 10.5\\nmse = 594155656.465\\nsamples = 524\\nvalue = 64216.601'), Text(76.64096385542169, 13.590000000000003, 'mse = 625000000.0\\nsamples = 2\\nvalue = 250000.0'), Text(79.33012048192771, 13.590000000000003, 'mse = 461287615.014\\nsamples = 522\\nvalue = 63504.787'), Text(83.36385542168675, 40.77000000000001, 'X[1] <= 37.105\\nmse = 728771571.803\\nsamples = 346\\nvalue = 84936.705'), Text(82.01927710843373, 13.590000000000003, 'mse = 608163733.363\\nsamples = 322\\nvalue = 82078.571'), Text(84.70843373493976, 13.590000000000003, 'mse = 766863055.556\\nsamples = 24\\nvalue = 123283.333'), Text(129.07951807228915, 149.49, 'X[2] <= 38.5\\nmse = 8382123113.081\\nsamples = 8249\\nvalue = 209689.716'), Text(107.56626506024097, 122.31, 'X[1] <= 37.965\\nmse = 6916480143.241\\nsamples = 6533\\nvalue = 197284.768'), Text(96.80963855421686, 95.13, 'X[0] <= -121.865\\nmse = 7318956027.147\\nsamples = 5366\\nvalue = 206266.808'), Text(91.43132530120482, 67.94999999999999, 'X[0] <= -122.165\\nmse = 6137491469.902\\nsamples = 772\\nvalue = 258949.238'), Text(88.74216867469879, 40.77000000000001, 'X[1] <= 37.565\\nmse = 7839254665.674\\nsamples = 212\\nvalue = 297741.075'), Text(87.39759036144578, 13.590000000000003, 'mse = 6037346945.319\\nsamples = 47\\nvalue = 359315.0'), Text(90.08674698795181, 13.590000000000003, 'mse = 6964940656.04\\nsamples = 165\\nvalue = 280201.836'), Text(94.12048192771084, 40.77000000000001, 'X[1] <= 37.465\\nmse = 4707912392.891\\nsamples = 560\\nvalue = 244263.757'), Text(92.77590361445783, 13.590000000000003, 'mse = 5056481390.94\\nsamples = 312\\nvalue = 271122.449'), Text(95.46506024096385, 13.590000000000003, 'mse = 2220073950.15\\nsamples = 248\\nvalue = 210473.79'), Text(102.18795180722891, 67.94999999999999, 'X[1] <= 34.475\\nmse = 6972720034.666\\nsamples = 4594\\nvalue = 197413.774'), Text(99.4987951807229, 40.77000000000001, 'X[0] <= -118.285\\nmse = 6932511516.267\\nsamples = 3626\\nvalue = 209726.717'), Text(98.15421686746988, 13.590000000000003, 'mse = 8970678849.795\\nsamples = 914\\nvalue = 269807.495'), Text(100.8433734939759, 13.590000000000003, 'mse = 4619063438.292\\nsamples = 2712\\nvalue = 189478.255'), Text(104.87710843373493, 40.77000000000001, 'X[0] <= -120.125\\nmse = 4428130742.182\\nsamples = 968\\nvalue = 151291.118'), Text(103.53253012048192, 13.590000000000003, 'mse = 4262639008.042\\nsamples = 528\\nvalue = 185010.989'), Text(106.22168674698796, 13.590000000000003, 'mse = 1624962438.017\\nsamples = 440\\nvalue = 110827.273'), Text(118.32289156626506, 95.13, 'X[0] <= -122.395\\nmse = 2989160413.91\\nsamples = 1167\\nvalue = 155984.319'), Text(112.944578313253, 67.94999999999999, 'X[1] <= 38.775\\nmse = 4421923765.784\\nsamples = 274\\nvalue = 195156.934'), Text(110.25542168674698, 40.77000000000001, 'X[7] <= 4.13\\nmse = 2735978270.252\\nsamples = 196\\nvalue = 223984.184'), Text(108.91084337349398, 13.590000000000003, 'mse = 2519941857.7\\nsamples = 122\\nvalue = 208681.148'), Text(111.6, 13.590000000000003, 'mse = 2069541979.547\\nsamples = 74\\nvalue = 249213.514'), Text(115.63373493975904, 40.77000000000001, 'X[1] <= 39.41\\nmse = 1323001553.254\\nsamples = 78\\nvalue = 122719.231'), Text(114.28915662650603, 13.590000000000003, 'mse = 1680553443.75\\nsamples = 40\\nvalue = 136442.5'), Text(116.97831325301205, 13.590000000000003, 'mse = 539717202.216\\nsamples = 38\\nvalue = 108273.684'), Text(123.70120481927711, 67.94999999999999, 'X[7] <= 4.068\\nmse = 1934248973.038\\nsamples = 893\\nvalue = 143964.95'), Text(121.01204819277108, 40.77000000000001, 'X[7] <= 3.601\\nmse = 1428406482.681\\nsamples = 556\\nvalue = 130787.59'), Text(119.66746987951807, 13.590000000000003, 'mse = 1447432160.354\\nsamples = 310\\nvalue = 122759.032'), Text(122.3566265060241, 13.590000000000003, 'mse = 1220844285.148\\nsamples = 246\\nvalue = 140904.878'), Text(126.39036144578313, 40.77000000000001, 'X[7] <= 4.073\\nmse = 2009671629.934\\nsamples = 337\\nvalue = 165705.638'), Text(125.04578313253012, 13.590000000000003, 'mse = 12326931875.0\\nsamples = 4\\nvalue = 270075.0'), Text(127.73493975903614, 13.590000000000003, 'mse = 1753322436.13\\nsamples = 333\\nvalue = 164451.952'), Text(150.59277108433736, 122.31, 'X[0] <= -122.365\\nmse = 11145748846.49\\nsamples = 1716\\nvalue = 256916.713'), Text(139.83614457831325, 95.13, 'X[1] <= 38.165\\nmse = 10007704737.087\\nsamples = 399\\nvalue = 324817.907'), Text(134.4578313253012, 67.94999999999999, 'X[1] <= 37.765\\nmse = 8219056338.205\\nsamples = 365\\nvalue = 338989.986'), Text(131.76867469879517, 40.77000000000001, 'X[1] <= 37.735\\nmse = 3976227143.508\\nsamples = 228\\nvalue = 294612.298'), Text(130.42409638554216, 13.590000000000003, 'mse = 3580553856.19\\nsamples = 101\\nvalue = 263250.515'), Text(133.1132530120482, 13.590000000000003, 'mse = 2886627540.892\\nsamples = 127\\nvalue = 319553.559'), Text(137.14698795180723, 40.77000000000001, 'X[0] <= -122.475\\nmse = 6548070986.655\\nsamples = 137\\nvalue = 412844.825'), Text(135.80240963855422, 13.590000000000003, 'mse = 2888122395.027\\nsamples = 41\\nvalue = 350658.561'), Text(138.49156626506024, 13.590000000000003, 'mse = 5754221217.04\\nsamples = 96\\nvalue = 439403.542'), Text(145.2144578313253, 67.94999999999999, 'X[0] <= -122.88\\nmse = 3906194152.249\\nsamples = 34\\nvalue = 172676.471'), Text(142.52530120481927, 40.77000000000001, 'X[4] <= 237.5\\nmse = 919109752.066\\nsamples = 11\\nvalue = 98345.455'), Text(141.18072289156626, 13.590000000000003, 'mse = 55642222.222\\nsamples = 3\\nvalue = 58033.333'), Text(143.86987951807228, 13.590000000000003, 'mse = 404984843.75\\nsamples = 8\\nvalue = 113462.5'), Text(147.9036144578313, 40.77000000000001, 'X[3] <= 1975.5\\nmse = 1428585406.427\\nsamples = 23\\nvalue = 208226.087'), Text(146.5590361445783, 13.590000000000003, 'mse = 590196859.504\\nsamples = 11\\nvalue = 185936.364'), Text(149.24819277108435, 13.590000000000003, 'mse = 1324202430.556\\nsamples = 12\\nvalue = 228658.333'), Text(161.34939759036143, 95.13, 'X[7] <= 4.072\\nmse = 9670523463.476\\nsamples = 1317\\nvalue = 236345.28'), Text(155.9710843373494, 67.94999999999999, 'X[4] <= 470.5\\nmse = 8045760934.463\\nsamples = 866\\nvalue = 212930.386'), Text(153.28192771084338, 40.77000000000001, 'X[1] <= 37.935\\nmse = 6595019151.386\\nsamples = 647\\nvalue = 197867.243'), Text(151.93734939759037, 13.590000000000003, 'mse = 6624901393.019\\nsamples = 580\\nvalue = 205544.838'), Text(154.6265060240964, 13.590000000000003, 'mse = 1408763711.294\\nsamples = 67\\nvalue = 131404.478'), Text(158.66024096385541, 40.77000000000001, 'X[5] <= 908.5\\nmse = 9681014508.457\\nsamples = 219\\nvalue = 257432.0'), Text(157.3156626506024, 13.590000000000003, 'mse = 10690889615.777\\nsamples = 16\\nvalue = 366025.188'), Text(160.00481927710842, 13.590000000000003, 'mse = 8598704198.33\\nsamples = 203\\nvalue = 248872.931'), Text(166.7277108433735, 67.94999999999999, 'X[1] <= 33.765\\nmse = 9716135369.44\\nsamples = 451\\nvalue = 281306.031'), Text(164.03855421686745, 40.77000000000001, 'X[2] <= 45.5\\nmse = 6727201353.277\\nsamples = 32\\nvalue = 379725.188'), Text(162.69397590361444, 13.590000000000003, 'mse = 5369963639.728\\nsamples = 18\\nvalue = 417689.222'), Text(165.3831325301205, 13.590000000000003, 'mse = 4236658367.347\\nsamples = 14\\nvalue = 330914.286'), Text(169.41686746987952, 40.77000000000001, 'X[0] <= -118.245\\nmse = 9148141951.562\\nsamples = 419\\nvalue = 273789.532'), Text(168.0722891566265, 13.590000000000003, 'mse = 9672802992.547\\nsamples = 293\\nvalue = 290286.399'), Text(170.76144578313253, 13.590000000000003, 'mse = 5823623124.082\\nsamples = 126\\nvalue = 235427.77'), Text(256.1421686746988, 176.67000000000002, 'X[7] <= 6.82\\nmse = 12209131078.896\\nsamples = 4122\\nvalue = 333301.437'), Text(215.13253012048193, 149.49, 'X[2] <= 36.5\\nmse = 8984709940.026\\nsamples = 2825\\nvalue = 292384.449'), Text(193.61927710843372, 122.31, 'X[7] <= 5.832\\nmse = 7657498333.204\\nsamples = 2367\\nvalue = 278621.544'), Text(182.86265060240964, 95.13, 'X[2] <= 17.5\\nmse = 6934968328.127\\nsamples = 1359\\nvalue = 256687.004'), Text(177.48433734939758, 67.94999999999999, 'X[1] <= 34.475\\nmse = 4949120542.018\\nsamples = 513\\nvalue = 227297.088'), Text(174.79518072289156, 40.77000000000001, 'X[0] <= -117.625\\nmse = 5445112580.111\\nsamples = 267\\nvalue = 240941.97'), Text(173.45060240963855, 13.590000000000003, 'mse = 5262954585.351\\nsamples = 136\\nvalue = 266669.154'), Text(176.13975903614457, 13.590000000000003, 'mse = 4233694201.453\\nsamples = 131\\nvalue = 214232.832'), Text(180.17349397590363, 40.77000000000001, 'X[0] <= -119.995\\nmse = 3989384353.394\\nsamples = 246\\nvalue = 212487.398'), Text(178.8289156626506, 13.590000000000003, 'mse = 3229530343.349\\nsamples = 202\\nvalue = 227617.327'), Text(181.51807228915663, 13.590000000000003, 'mse = 1602169256.198\\nsamples = 44\\nvalue = 143027.273'), Text(188.24096385542168, 67.94999999999999, 'X[0] <= -118.115\\nmse = 7297771419.85\\nsamples = 846\\nvalue = 274508.55'), Text(185.55180722891566, 40.77000000000001, 'X[1] <= 34.175\\nmse = 7875990917.719\\nsamples = 558\\nvalue = 288644.672'), Text(184.20722891566265, 13.590000000000003, 'mse = 9956991925.007\\nsamples = 104\\nvalue = 352028.048'), Text(186.89638554216867, 13.590000000000003, 'mse = 6268171346.37\\nsamples = 454\\nvalue = 274125.132'), Text(190.9301204819277, 40.77000000000001, 'X[0] <= -117.205\\nmse = 5040157679.708\\nsamples = 288\\nvalue = 247119.812'), Text(189.5855421686747, 13.590000000000003, 'mse = 4812306397.278\\nsamples = 248\\nvalue = 254892.359'), Text(192.2746987951807, 13.590000000000003, 'mse = 3756022653.524\\nsamples = 40\\nvalue = 198930.025'), Text(204.37590361445783, 95.13, 'X[2] <= 26.5\\nmse = 7108434991.868\\nsamples = 1008\\nvalue = 308194.003'), Text(198.9975903614458, 67.94999999999999, 'X[1] <= 37.955\\nmse = 5962163180.829\\nsamples = 743\\nvalue = 291947.413'), Text(196.30843373493977, 40.77000000000001, 'X[0] <= -122.015\\nmse = 5900494198.417\\nsamples = 658\\nvalue = 298354.754'), Text(194.96385542168673, 13.590000000000003, 'mse = 6128396281.58\\nsamples = 54\\nvalue = 373400.111'), Text(197.65301204819278, 13.590000000000003, 'mse = 5331597623.585\\nsamples = 604\\nvalue = 291645.401'), Text(201.6867469879518, 40.77000000000001, 'X[0] <= -122.375\\nmse = 3661552138.408\\nsamples = 85\\nvalue = 242347.059'), Text(200.3421686746988, 13.590000000000003, 'mse = 3596802091.837\\nsamples = 14\\nvalue = 311007.143'), Text(203.03132530120482, 13.590000000000003, 'mse = 2561463872.248\\nsamples = 71\\nvalue = 228808.451'), Text(209.75421686746986, 67.94999999999999, 'X[3] <= 1617.5\\nmse = 7507298095.351\\nsamples = 265\\nvalue = 353745.762'), Text(207.06506024096385, 40.77000000000001, 'X[5] <= 224.0\\nmse = 6868167102.231\\nsamples = 65\\nvalue = 310973.877'), Text(205.72048192771084, 13.590000000000003, 'mse = 5346670584.16\\nsamples = 5\\nvalue = 419540.2'), Text(208.40963855421685, 13.590000000000003, 'mse = 5930886224.683\\nsamples = 60\\nvalue = 301926.683'), Text(212.4433734939759, 40.77000000000001, 'X[5] <= 756.0\\nmse = 6927215576.234\\nsamples = 200\\nvalue = 367646.625'), Text(211.09879518072287, 13.590000000000003, 'mse = 6472880496.75\\nsamples = 24\\nvalue = 430479.5'), Text(213.78795180722892, 13.590000000000003, 'mse = 6377398121.045\\nsamples = 176\\nvalue = 359078.506'), Text(236.6457831325301, 122.31, 'X[7] <= 5.706\\nmse = 9805722765.804\\nsamples = 458\\nvalue = 363512.825'), Text(225.889156626506, 95.13, 'X[6] <= 217.5\\nmse = 9639109066.731\\nsamples = 238\\nvalue = 335555.992'), Text(220.51084337349397, 67.94999999999999, 'X[0] <= -122.215\\nmse = 5226919722.425\\nsamples = 37\\nvalue = 260302.703'), Text(217.82168674698795, 40.77000000000001, 'X[1] <= 37.52\\nmse = 1928038765.432\\nsamples = 9\\nvalue = 330388.889'), Text(216.47710843373494, 13.590000000000003, 'mse = 602046666.667\\nsamples = 3\\nvalue = 292400.0'), Text(219.16626506024096, 13.590000000000003, 'mse = 1508668055.556\\nsamples = 6\\nvalue = 349383.333'), Text(223.2, 40.77000000000001, 'X[0] <= -118.355\\nmse = 4200896160.714\\nsamples = 28\\nvalue = 237775.0'), Text(221.85542168674698, 13.590000000000003, 'mse = 4118887932.099\\nsamples = 18\\nvalue = 259661.111'), Text(224.544578313253, 13.590000000000003, 'mse = 1934341600.0\\nsamples = 10\\nvalue = 198380.0'), Text(231.26746987951807, 67.94999999999999, 'X[1] <= 33.7\\nmse = 9216955355.247\\nsamples = 201\\nvalue = 349408.587'), Text(228.57831325301206, 40.77000000000001, 'X[5] <= 877.5\\nmse = 3753607739.139\\nsamples = 12\\nvalue = 451358.833'), Text(227.23373493975905, 13.590000000000003, 'mse = 1809313256.24\\nsamples = 10\\nvalue = 468620.6'), Text(229.92289156626506, 13.590000000000003, 'mse = 4536022500.0\\nsamples = 2\\nvalue = 365050.0'), Text(233.9566265060241, 40.77000000000001, 'X[0] <= -118.365\\nmse = 8862007275.591\\nsamples = 189\\nvalue = 342935.556'), Text(232.61204819277108, 13.590000000000003, 'mse = 8178705010.925\\nsamples = 120\\nvalue = 370472.658'), Text(235.3012048192771, 13.590000000000003, 'mse = 6438079429.504\\nsamples = 69\\nvalue = 295044.942'), Text(247.40240963855422, 95.13, 'X[3] <= 329.5\\nmse = 8225723814.344\\nsamples = 220\\nvalue = 393757.036'), Text(242.02409638554215, 67.94999999999999, 'X[0] <= -121.6\\nmse = 6305945833.333\\nsamples = 6\\nvalue = 192150.0'), Text(239.33493975903613, 40.77000000000001, 'X[2] <= 44.0\\nmse = 231040000.0\\nsamples = 2\\nvalue = 90200.0'), Text(237.99036144578312, 13.590000000000003, 'mse = 0.0\\nsamples = 1\\nvalue = 105400.0'), Text(240.67951807228914, 13.590000000000003, 'mse = 0.0\\nsamples = 1\\nvalue = 75000.0'), Text(244.7132530120482, 40.77000000000001, 'X[4] <= 45.5\\nmse = 1548046875.0\\nsamples = 4\\nvalue = 243125.0'), Text(243.3686746987952, 13.590000000000003, 'mse = 351562500.0\\nsamples = 2\\nvalue = 206250.0'), Text(246.0578313253012, 13.590000000000003, 'mse = 25000000.0\\nsamples = 2\\nvalue = 280000.0'), Text(252.78072289156626, 67.94999999999999, 'X[7] <= 6.382\\nmse = 7108007654.432\\nsamples = 214\\nvalue = 399409.57'), Text(250.09156626506024, 40.77000000000001, 'X[2] <= 49.5\\nmse = 7241476877.837\\nsamples = 155\\nvalue = 387519.503'), Text(248.74698795180723, 13.590000000000003, 'mse = 6900671378.949\\nsamples = 107\\nvalue = 369254.28'), Text(251.43614457831325, 13.590000000000003, 'mse = 5599687140.406\\nsamples = 48\\nvalue = 428235.729'), Text(255.46987951807228, 40.77000000000001, 'X[0] <= -118.33\\nmse = 5410236511.304\\nsamples = 59\\nvalue = 430646.186'), Text(254.12530120481927, 13.590000000000003, 'mse = 4487541762.574\\nsamples = 38\\nvalue = 451463.711'), Text(256.8144578313253, 13.590000000000003, 'mse = 4876668299.474\\nsamples = 21\\nvalue = 392976.381'), Text(297.15180722891563, 149.49, 'X[7] <= 7.834\\nmse = 7643043977.506\\nsamples = 1297\\nvalue = 422422.866'), Text(277.3192771084337, 122.31, 'X[2] <= 26.5\\nmse = 7565666333.211\\nsamples = 550\\nvalue = 374765.453'), Text(268.9156626506024, 95.13, 'X[0] <= -121.995\\nmse = 5635767049.052\\nsamples = 329\\nvalue = 341799.477'), Text(263.53734939759033, 67.94999999999999, 'X[1] <= 37.545\\nmse = 4896202152.622\\nsamples = 56\\nvalue = 388769.804'), Text(260.8481927710843, 40.77000000000001, 'X[3] <= 1611.5\\nmse = 4727617483.738\\nsamples = 25\\nvalue = 422332.32'), Text(259.5036144578313, 13.590000000000003, 'mse = 1501580000.0\\nsamples = 3\\nvalue = 301000.0'), Text(262.1927710843373, 13.590000000000003, 'mse = 2886302572.959\\nsamples = 22\\nvalue = 438877.636'), Text(266.2265060240964, 40.77000000000001, 'X[0] <= -122.435\\nmse = 3391138266.837\\nsamples = 31\\nvalue = 361703.258'), Text(264.88192771084334, 13.590000000000003, 'mse = 1829632081.58\\nsamples = 9\\nvalue = 406744.556'), Text(267.5710843373494, 13.590000000000003, 'mse = 2860489028.926\\nsamples = 22\\nvalue = 343277.273'), Text(274.29397590361447, 67.94999999999999, 'X[4] <= 348.5\\nmse = 5242084407.018\\nsamples = 273\\nvalue = 332164.538'), Text(271.60481927710845, 40.77000000000001, 'X[1] <= 33.82\\nmse = 6582448959.925\\nsamples = 100\\nvalue = 313851.07'), Text(270.26024096385544, 13.590000000000003, 'mse = 6889436101.159\\nsamples = 33\\nvalue = 353197.152'), Text(272.94939759036146, 13.590000000000003, 'mse = 5293180704.136\\nsamples = 67\\nvalue = 294471.657'), Text(276.9831325301205, 40.77000000000001, 'X[3] <= 2404.5\\nmse = 4161384546.184\\nsamples = 173\\nvalue = 342750.358'), Text(275.6385542168675, 13.590000000000003, 'mse = 7560322041.061\\nsamples = 7\\nvalue = 430357.714'), Text(278.3277108433735, 13.590000000000003, 'mse = 3680761470.404\\nsamples = 166\\nvalue = 339056.072'), Text(285.72289156626505, 95.13, 'X[1] <= 37.61\\nmse = 6412385927.128\\nsamples = 221\\nvalue = 423841.498'), Text(281.0168674698795, 67.94999999999999, 'X[6] <= 7.5\\nmse = 5660122387.11\\nsamples = 172\\nvalue = 439397.488'), Text(279.6722891566265, 40.77000000000001, 'mse = 0.0\\nsamples = 1\\nvalue = 67500.0'), Text(282.3614457831325, 40.77000000000001, 'X[0] <= -118.29\\nmse = 4879675389.016\\nsamples = 171\\nvalue = 441572.327'), Text(281.0168674698795, 13.590000000000003, 'mse = 2901882736.36\\nsamples = 108\\nvalue = 458639.361'), Text(283.70602409638553, 13.590000000000003, 'mse = 6914816483.644\\nsamples = 63\\nvalue = 412314.556'), Text(290.4289156626506, 67.94999999999999, 'X[0] <= -122.355\\nmse = 5221880784.897\\nsamples = 49\\nvalue = 369236.796'), Text(287.73975903614456, 40.77000000000001, 'X[3] <= 601.5\\nmse = 3463124298.988\\nsamples = 9\\nvalue = 447255.889'), Text(286.39518072289155, 13.590000000000003, 'mse = 0.0\\nsamples = 1\\nvalue = 316700.0'), Text(289.0843373493976, 13.590000000000003, 'mse = 1499084193.984\\nsamples = 8\\nvalue = 463575.375'), Text(293.1180722891566, 40.77000000000001, 'X[1] <= 37.8\\nmse = 3939877443.75\\nsamples = 40\\nvalue = 351682.5'), Text(291.7734939759036, 13.590000000000003, 'mse = 3267898888.889\\nsamples = 6\\nvalue = 265066.667'), Text(294.4626506024096, 13.590000000000003, 'mse = 2500890423.875\\nsamples = 34\\nvalue = 366967.647'), Text(316.9843373493976, 122.31, 'X[7] <= 9.069\\nmse = 4796511717.582\\nsamples = 747\\nvalue = 457511.992'), Text(306.56385542168675, 95.13, 'X[2] <= 28.5\\nmse = 5350470716.922\\nsamples = 359\\nvalue = 431685.075'), Text(301.1855421686747, 67.94999999999999, 'X[0] <= -118.035\\nmse = 5287049431.729\\nsamples = 212\\nvalue = 400380.854'), Text(298.4963855421687, 40.77000000000001, 'X[1] <= 34.135\\nmse = 5710651013.756\\nsamples = 127\\nvalue = 418202.646'), Text(297.15180722891563, 13.590000000000003, 'mse = 1581271861.355\\nsamples = 22\\nvalue = 478437.091'), Text(299.8409638554217, 13.590000000000003, 'mse = 5656384117.705\\nsamples = 105\\nvalue = 405582.095'), Text(303.87469879518073, 40.77000000000001, 'X[7] <= 8.247\\nmse = 3470540167.529\\nsamples = 85\\nvalue = 373753.0'), Text(302.5301204819277, 13.590000000000003, 'mse = 3426928039.688\\nsamples = 36\\nvalue = 350147.25'), Text(305.21927710843374, 13.590000000000003, 'mse = 2792407559.592\\nsamples = 49\\nvalue = 391096.0'), Text(311.9421686746988, 67.94999999999999, 'X[1] <= 37.805\\nmse = 1990486479.543\\nsamples = 147\\nvalue = 476831.299'), Text(309.2530120481928, 40.77000000000001, 'X[0] <= -117.915\\nmse = 1506315873.64\\nsamples = 119\\nvalue = 485129.353'), Text(307.90843373493976, 13.590000000000003, 'mse = 932672541.686\\nsamples = 108\\nvalue = 489532.287'), Text(310.5975903614458, 13.590000000000003, 'mse = 5079387018.43\\nsamples = 11\\nvalue = 441900.545'), Text(314.6313253012048, 40.77000000000001, 'X[0] <= -122.365\\nmse = 2511824259.388\\nsamples = 28\\nvalue = 441564.571'), Text(313.2867469879518, 13.590000000000003, 'mse = 345354850.25\\nsamples = 8\\nvalue = 482025.5'), Text(315.9759036144578, 13.590000000000003, 'mse = 2461643448.16\\nsamples = 20\\nvalue = 425380.2'), Text(327.4048192771084, 95.13, 'X[6] <= 27.5\\nmse = 3095737234.99\\nsamples = 388\\nvalue = 481408.546'), Text(322.69879518072287, 67.94999999999999, 'X[0] <= -119.305\\nmse = 18971022233.0\\nsamples = 16\\nvalue = 312956.5'), Text(320.00963855421685, 40.77000000000001, 'X[6] <= 23.5\\nmse = 13233028066.889\\nsamples = 12\\nvalue = 366650.333'), Text(318.66506024096384, 13.590000000000003, 'mse = 4961006250.25\\nsamples = 8\\nvalue = 431250.5'), Text(321.35421686746986, 13.590000000000003, 'mse = 4737982500.0\\nsamples = 4\\nvalue = 237450.0'), Text(325.3879518072289, 40.77000000000001, 'X[1] <= 34.065\\nmse = 1588671875.0\\nsamples = 4\\nvalue = 151875.0'), Text(324.0433734939759, 13.590000000000003, 'mse = 0.0\\nsamples = 2\\nvalue = 112500.0'), Text(326.7325301204819, 13.590000000000003, 'mse = 76562500.0\\nsamples = 2\\nvalue = 191250.0'), Text(332.110843373494, 67.94999999999999, 'X[1] <= 37.995\\nmse = 1139958568.152\\nsamples = 372\\nvalue = 488653.796'), Text(330.766265060241, 40.77000000000001, 'X[2] <= 18.5\\nmse = 978605143.764\\nsamples = 371\\nvalue = 489318.631'), Text(329.421686746988, 13.590000000000003, 'mse = 2115083075.092\\nsamples = 93\\nvalue = 472729.634'), Text(332.110843373494, 13.590000000000003, 'mse = 475557338.497\\nsamples = 278\\nvalue = 494868.187'), Text(333.455421686747, 40.77000000000001, 'mse = 0.0\\nsamples = 1\\nvalue = 242000.0')]\n"
          ],
          "name": "stdout"
        },
        {
          "output_type": "display_data",
          "data": {
            "image/png": "[encoded data removed]",
            "text/plain": [
              "<Figure size 432x288 with 1 Axes>"
            ]
          },
          "metadata": {
            "tags": []
          }
        }
      ]
    },
    {
      "cell_type": "code",
      "metadata": {
        "id": "_uzfu2LGKGFe",
        "colab_type": "code",
        "outputId": "038f8145-2299-48e2-e88b-a9eeb797c6fd",
        "colab": {
          "base_uri": "https://localhost:8080/",
          "height": 34
        }
      },
      "source": [
        "#using Graphviz\n",
        "#these processes can take a long time to generate the tree, patience please\n",
        "\n",
        "\n",
        "dot = export_graphviz(dtree,\n",
        "                        out_file=None,\n",
        "                        filled=True,\n",
        "                        impurity=None,\n",
        "                        )\n",
        "\n",
        "graph = graphviz.Source(dot)\n",
        "graph.render(\"dtree_render\")"
      ],
      "execution_count": 0,
      "outputs": [
        {
          "output_type": "execute_result",
          "data": {
            "text/plain": [
              "'dtree_render.pdf'"
            ]
          },
          "metadata": {
            "tags": []
          },
          "execution_count": 62
        }
      ]
    },
    {
      "cell_type": "markdown",
      "metadata": {
        "id": "aTKBdnFNi8lu",
        "colab_type": "text"
      },
      "source": [
        "# Testing the variance of Dtrees against Linear Model\n",
        "\n",
        "**Note-** When shuffle in the train_test_split is turned off by defining argument shuffle = False. The linar models will show close to now variance but the Dtrees will show variance. Prune the tree to reduce the variance. \n"
      ]
    },
    {
      "cell_type": "code",
      "metadata": {
        "id": "czX1f9KHjCwG",
        "colab_type": "code",
        "outputId": "db987927-3b05-45a4-9b89-4b8b848368ab",
        "colab": {
          "base_uri": "https://localhost:8080/",
          "height": 286
        }
      },
      "source": [
        "#READ\n",
        "#first try vanila trees\n",
        "#then try pruning levels\n",
        "#then try pruning number of samples\n",
        "\n",
        "\n",
        "\n",
        "scorelistvarlr = []\n",
        "scorelistvardtree = []\n",
        "iteration = [1,2,3,4,5,6,7]# ,8,9,10,11,12,13,14,15,16,17,18,19,20\n",
        "\n",
        "for i in iteration:\n",
        "  xtrain,xtest,ytrain,ytest = train_test_split(x,y,test_size = 30, shuffle = True) #shuffle = False to trun of shuffle\n",
        "  \n",
        "  varLR = LinearRegression()\n",
        "  varLR.fit(xtrain,ytrain)\n",
        "  scorevarLR = varLR.score(xtest,ytest)\n",
        "  \n",
        "  #You can prune a dtree by defining arguments that limit its growth\n",
        "  vardtree = DecisionTreeRegressor(max_depth = 7) #max_depth = 15 #min_samples_split Use\n",
        "  vardtree.fit(xtrain,ytrain)\n",
        "  scorevardtree = vardtree.score(xtest,ytest)\n",
        "  \n",
        "  \n",
        "  \n",
        "  scorelistvarlr.append(scorevarLR)\n",
        "  scorelistvardtree.append(scorevardtree)\n",
        "  \n",
        "\n",
        "  \n",
        "plt.plot(iteration,scorelistvarlr, label = 'LR')\n",
        "plt.plot(iteration,scorelistvardtree, label = 'Dtree')\n",
        "  \n"
      ],
      "execution_count": 0,
      "outputs": [
        {
          "output_type": "execute_result",
          "data": {
            "text/plain": [
              "[<matplotlib.lines.Line2D at 0x7fc5faeac588>]"
            ]
          },
          "metadata": {
            "tags": []
          },
          "execution_count": 116
        },
        {
          "output_type": "display_data",
          "data": {
            "image/png": "[encoded data removed]",
            "text/plain": [
              "<Figure size 432x288 with 1 Axes>"
            ]
          },
          "metadata": {
            "tags": []
          }
        }
      ]
    },
    {
      "cell_type": "markdown",
      "metadata": {
        "id": "JG-cSMnuQeuU",
        "colab_type": "text"
      },
      "source": [
        "#Ensembling\n",
        "\n",
        "Ensembling is the process of building many smaller models also known as stumps that fit a fragment of your data but working together can as an aggregated model output perform much better than a single complex model\n",
        "\n",
        "--- \n",
        "\n",
        "Let's first try Gradient Boosting Ensembler"
      ]
    },
    {
      "cell_type": "code",
      "metadata": {
        "id": "8ZamdNWGModm",
        "colab_type": "code",
        "outputId": "c3ce71c7-3b7f-4489-9990-84db61cc6f94",
        "colab": {
          "base_uri": "https://localhost:8080/",
          "height": 561
        }
      },
      "source": [
        "argumentlist = [500,700,1000,2000,5000]\n",
        "iteration = [1,2,3,4,5]\n",
        "\n",
        "for i in argumentlist:\n",
        "  gbr = GradientBoostingRegressor(n_estimators = i, learning_rate = 0.03)\n",
        "\n",
        "  gbr.fit(xtrain,ytrain)\n",
        "\n",
        "  #ransacR.score(xtrain,ytrain)\n",
        "  traininglossgbr = gbr.score(xtrain,ytrain)\n",
        "  testinglossgbr = gbr.score(xtest,ytest)\n",
        "\n",
        "  #print(traininglossgbr)\n",
        "  print(testinglossgbr)\n",
        "  \n",
        "plt.plot(iteration, argumentlist)"
      ],
      "execution_count": 0,
      "outputs": [
        {
          "output_type": "stream",
          "text": [
            "/usr/local/lib/python3.6/dist-packages/sklearn/ensemble/gradient_boosting.py:1450: DataConversionWarning: A column-vector y was passed when a 1d array was expected. Please change the shape of y to (n_samples, ), for example using ravel().\n",
            "  y = column_or_1d(y, warn=True)\n"
          ],
          "name": "stderr"
        },
        {
          "output_type": "stream",
          "text": [
            "0.7300168136327555\n"
          ],
          "name": "stdout"
        },
        {
          "output_type": "stream",
          "text": [
            "/usr/local/lib/python3.6/dist-packages/sklearn/ensemble/gradient_boosting.py:1450: DataConversionWarning: A column-vector y was passed when a 1d array was expected. Please change the shape of y to (n_samples, ), for example using ravel().\n",
            "  y = column_or_1d(y, warn=True)\n"
          ],
          "name": "stderr"
        },
        {
          "output_type": "stream",
          "text": [
            "0.7474828222582637\n"
          ],
          "name": "stdout"
        },
        {
          "output_type": "stream",
          "text": [
            "/usr/local/lib/python3.6/dist-packages/sklearn/ensemble/gradient_boosting.py:1450: DataConversionWarning: A column-vector y was passed when a 1d array was expected. Please change the shape of y to (n_samples, ), for example using ravel().\n",
            "  y = column_or_1d(y, warn=True)\n"
          ],
          "name": "stderr"
        },
        {
          "output_type": "stream",
          "text": [
            "0.7547757704675968\n"
          ],
          "name": "stdout"
        },
        {
          "output_type": "stream",
          "text": [
            "/usr/local/lib/python3.6/dist-packages/sklearn/ensemble/gradient_boosting.py:1450: DataConversionWarning: A column-vector y was passed when a 1d array was expected. Please change the shape of y to (n_samples, ), for example using ravel().\n",
            "  y = column_or_1d(y, warn=True)\n"
          ],
          "name": "stderr"
        },
        {
          "output_type": "stream",
          "text": [
            "0.7745963853876953\n"
          ],
          "name": "stdout"
        },
        {
          "output_type": "stream",
          "text": [
            "/usr/local/lib/python3.6/dist-packages/sklearn/ensemble/gradient_boosting.py:1450: DataConversionWarning: A column-vector y was passed when a 1d array was expected. Please change the shape of y to (n_samples, ), for example using ravel().\n",
            "  y = column_or_1d(y, warn=True)\n"
          ],
          "name": "stderr"
        },
        {
          "output_type": "stream",
          "text": [
            "0.7762903968368811\n"
          ],
          "name": "stdout"
        },
        {
          "output_type": "execute_result",
          "data": {
            "text/plain": [
              "[<matplotlib.lines.Line2D at 0x7fc5fab335c0>]"
            ]
          },
          "metadata": {
            "tags": []
          },
          "execution_count": 139
        },
        {
          "output_type": "display_data",
          "data": {
            "image/png": "[encoded data removed]",
            "text/plain": [
              "<Figure size 432x288 with 1 Axes>"
            ]
          },
          "metadata": {
            "tags": []
          }
        }
      ]
    },
    {
      "cell_type": "markdown",
      "metadata": {
        "id": "qAscv5nGRNdY",
        "colab_type": "text"
      },
      "source": [
        "**In here we do not know what the correct number of estimators or sub-models we want, hence let us cycle through a list with options**"
      ]
    },
    {
      "cell_type": "code",
      "metadata": {
        "id": "FhWYYPH3SCxw",
        "colab_type": "code",
        "outputId": "72ec423e-2ba0-4bc3-dc68-cdbc8c3ca0e9",
        "colab": {
          "base_uri": "https://localhost:8080/",
          "height": 765
        }
      },
      "source": [
        "argumentlist = [100,200,300,400,500,600,700,800,1000]\n",
        "scorelist = []\n",
        "\n",
        "for i in argumentlist:\n",
        "  gbr = GradientBoostingRegressor(n_estimators = i, learning_rate = 0.03)\n",
        "  gbr.fit(xtrain,ytrain)  \n",
        "  score_to_append = gbr.score(xtest,ytest)\n",
        "  print(score_to_append)\n",
        "  scorelist.append(score_to_append)\n",
        "  \n",
        "  \n",
        "import matplotlib.pyplot as plt\n",
        "\n",
        "plt.plot(scorelist, argumentlist, label='score')"
      ],
      "execution_count": 0,
      "outputs": [
        {
          "output_type": "stream",
          "text": [
            "/usr/local/lib/python3.6/dist-packages/sklearn/ensemble/gradient_boosting.py:1450: DataConversionWarning: A column-vector y was passed when a 1d array was expected. Please change the shape of y to (n_samples, ), for example using ravel().\n",
            "  y = column_or_1d(y, warn=True)\n"
          ],
          "name": "stderr"
        },
        {
          "output_type": "stream",
          "text": [
            "0.6067953634273251\n"
          ],
          "name": "stdout"
        },
        {
          "output_type": "stream",
          "text": [
            "/usr/local/lib/python3.6/dist-packages/sklearn/ensemble/gradient_boosting.py:1450: DataConversionWarning: A column-vector y was passed when a 1d array was expected. Please change the shape of y to (n_samples, ), for example using ravel().\n",
            "  y = column_or_1d(y, warn=True)\n"
          ],
          "name": "stderr"
        },
        {
          "output_type": "stream",
          "text": [
            "0.7390212254837795\n"
          ],
          "name": "stdout"
        },
        {
          "output_type": "stream",
          "text": [
            "/usr/local/lib/python3.6/dist-packages/sklearn/ensemble/gradient_boosting.py:1450: DataConversionWarning: A column-vector y was passed when a 1d array was expected. Please change the shape of y to (n_samples, ), for example using ravel().\n",
            "  y = column_or_1d(y, warn=True)\n"
          ],
          "name": "stderr"
        },
        {
          "output_type": "stream",
          "text": [
            "0.7816154162537913\n"
          ],
          "name": "stdout"
        },
        {
          "output_type": "stream",
          "text": [
            "/usr/local/lib/python3.6/dist-packages/sklearn/ensemble/gradient_boosting.py:1450: DataConversionWarning: A column-vector y was passed when a 1d array was expected. Please change the shape of y to (n_samples, ), for example using ravel().\n",
            "  y = column_or_1d(y, warn=True)\n"
          ],
          "name": "stderr"
        },
        {
          "output_type": "stream",
          "text": [
            "0.7970717835245664\n"
          ],
          "name": "stdout"
        },
        {
          "output_type": "stream",
          "text": [
            "/usr/local/lib/python3.6/dist-packages/sklearn/ensemble/gradient_boosting.py:1450: DataConversionWarning: A column-vector y was passed when a 1d array was expected. Please change the shape of y to (n_samples, ), for example using ravel().\n",
            "  y = column_or_1d(y, warn=True)\n"
          ],
          "name": "stderr"
        },
        {
          "output_type": "stream",
          "text": [
            "0.8091488953687959\n"
          ],
          "name": "stdout"
        },
        {
          "output_type": "stream",
          "text": [
            "/usr/local/lib/python3.6/dist-packages/sklearn/ensemble/gradient_boosting.py:1450: DataConversionWarning: A column-vector y was passed when a 1d array was expected. Please change the shape of y to (n_samples, ), for example using ravel().\n",
            "  y = column_or_1d(y, warn=True)\n"
          ],
          "name": "stderr"
        },
        {
          "output_type": "stream",
          "text": [
            "0.8127816848585412\n"
          ],
          "name": "stdout"
        },
        {
          "output_type": "stream",
          "text": [
            "/usr/local/lib/python3.6/dist-packages/sklearn/ensemble/gradient_boosting.py:1450: DataConversionWarning: A column-vector y was passed when a 1d array was expected. Please change the shape of y to (n_samples, ), for example using ravel().\n",
            "  y = column_or_1d(y, warn=True)\n"
          ],
          "name": "stderr"
        },
        {
          "output_type": "stream",
          "text": [
            "0.8171649760612585\n"
          ],
          "name": "stdout"
        },
        {
          "output_type": "stream",
          "text": [
            "/usr/local/lib/python3.6/dist-packages/sklearn/ensemble/gradient_boosting.py:1450: DataConversionWarning: A column-vector y was passed when a 1d array was expected. Please change the shape of y to (n_samples, ), for example using ravel().\n",
            "  y = column_or_1d(y, warn=True)\n"
          ],
          "name": "stderr"
        },
        {
          "output_type": "stream",
          "text": [
            "0.8173587070462222\n"
          ],
          "name": "stdout"
        },
        {
          "output_type": "stream",
          "text": [
            "/usr/local/lib/python3.6/dist-packages/sklearn/ensemble/gradient_boosting.py:1450: DataConversionWarning: A column-vector y was passed when a 1d array was expected. Please change the shape of y to (n_samples, ), for example using ravel().\n",
            "  y = column_or_1d(y, warn=True)\n"
          ],
          "name": "stderr"
        },
        {
          "output_type": "stream",
          "text": [
            "0.8201898250992563\n"
          ],
          "name": "stdout"
        },
        {
          "output_type": "execute_result",
          "data": {
            "text/plain": [
              "[<matplotlib.lines.Line2D at 0x7f2550ab0668>]"
            ]
          },
          "metadata": {
            "tags": []
          },
          "execution_count": 136
        },
        {
          "output_type": "display_data",
          "data": {
            "image/png": "[encoded data removed]",
            "text/plain": [
              "<Figure size 432x288 with 1 Axes>"
            ]
          },
          "metadata": {
            "tags": []
          }
        }
      ]
    },
    {
      "cell_type": "markdown",
      "metadata": {
        "id": "U0DAX6BMTBaY",
        "colab_type": "text"
      },
      "source": [
        "The above plot gives us an understanding of how the score changes for each selection of estimators"
      ]
    },
    {
      "cell_type": "code",
      "metadata": {
        "id": "RcbHnZrnSljT",
        "colab_type": "code",
        "outputId": "3c1e16ad-d283-4f42-e702-88bf9e9644c0",
        "colab": {
          "base_uri": "https://localhost:8080/",
          "height": 34
        }
      },
      "source": [
        "#Now let's check variance of GBR by running split statement and then assesing score\n",
        "\n",
        "\n",
        "#splitting the data\n",
        "xtrain,xtest,ytrain,ytest = train_test_split(x,y,test_size = 30)\n",
        "\n",
        "print(gbr.score(xtest,ytest))"
      ],
      "execution_count": 0,
      "outputs": [
        {
          "output_type": "stream",
          "text": [
            "0.9189803433390424\n"
          ],
          "name": "stdout"
        }
      ]
    },
    {
      "cell_type": "markdown",
      "metadata": {
        "id": "58nqQLaQTih6",
        "colab_type": "text"
      },
      "source": [
        "Split 1 - 0.9253486080131357\n",
        "\n",
        "Split 2 - 0.8967617652947449\n",
        "\n",
        "Split 3 - 0.771234655801339\n",
        "\n",
        "Split 4 - 0.9189803433390424\n",
        "\n",
        "---\n",
        "\n",
        "The model shows some variance as we change the data."
      ]
    },
    {
      "cell_type": "code",
      "metadata": {
        "id": "il6P8SbbeHPM",
        "colab_type": "code",
        "colab": {}
      },
      "source": [
        "t_iterationlist = [1,2,3,4,5,6,7,8,9,10]\n",
        "t_scorelist = []"
      ],
      "execution_count": 0,
      "outputs": []
    },
    {
      "cell_type": "code",
      "metadata": {
        "id": "K753dZEDePdp",
        "colab_type": "code",
        "colab": {}
      },
      "source": [
        "for i in t_iterationlist:\n",
        "  t_scorelist.append(100)"
      ],
      "execution_count": 0,
      "outputs": []
    },
    {
      "cell_type": "code",
      "metadata": {
        "id": "CdnHsJY-ePXH",
        "colab_type": "code",
        "outputId": "9c2d834e-38d9-467c-ed6e-f61a3d435612",
        "colab": {
          "base_uri": "https://localhost:8080/",
          "height": 34
        }
      },
      "source": [
        "print(t_scorelist)"
      ],
      "execution_count": 0,
      "outputs": [
        {
          "output_type": "stream",
          "text": [
            "[100, 100, 100, 100, 100, 100, 100, 100, 100, 100]\n"
          ],
          "name": "stdout"
        }
      ]
    },
    {
      "cell_type": "code",
      "metadata": {
        "id": "xpPhlEnLee1k",
        "colab_type": "code",
        "outputId": "39941cce-c491-4114-8d29-54d1898723f2",
        "colab": {
          "base_uri": "https://localhost:8080/",
          "height": 286
        }
      },
      "source": [
        "plt.plot(t_iterationlist,t_scorelist)"
      ],
      "execution_count": 0,
      "outputs": [
        {
          "output_type": "execute_result",
          "data": {
            "text/plain": [
              "[<matplotlib.lines.Line2D at 0x7f3548468be0>]"
            ]
          },
          "metadata": {
            "tags": []
          },
          "execution_count": 173
        },
        {
          "output_type": "display_data",
          "data": {
            "image/png": "[encoded data removed]",
            "text/plain": [
              "<Figure size 432x288 with 1 Axes>"
            ]
          },
          "metadata": {
            "tags": []
          }
        }
      ]
    },
    {
      "cell_type": "markdown",
      "metadata": {
        "id": "l5zi5WxptKVt",
        "colab_type": "text"
      },
      "source": [
        "# Scaling the data for normalcy and then fitting models"
      ]
    },
    {
      "cell_type": "code",
      "metadata": {
        "id": "8KS3OXV7tP5H",
        "colab_type": "code",
        "colab": {}
      },
      "source": [
        "from sklearn.preprocessing import StandardScaler\n",
        "\n",
        "scaler = StandardScaler()\n",
        "\n",
        "#df = scaler.fit(df)\n",
        "\n"
      ],
      "execution_count": 0,
      "outputs": []
    },
    {
      "cell_type": "code",
      "metadata": {
        "id": "AFrkNHWsuB1Y",
        "colab_type": "code",
        "colab": {}
      },
      "source": [
        "scaleddf = scaler.fit_transform(df)"
      ],
      "execution_count": 0,
      "outputs": []
    },
    {
      "cell_type": "code",
      "metadata": {
        "id": "luZyMXOHv9PO",
        "colab_type": "code",
        "outputId": "fb83a590-30c9-463f-d93b-cb01edde243e",
        "colab": {
          "base_uri": "https://localhost:8080/",
          "height": 238
        }
      },
      "source": [
        "print(scaleddf)"
      ],
      "execution_count": 0,
      "outputs": [
        {
          "output_type": "stream",
          "text": [
            "[[ 2.62341796 -0.67260797 -1.0831221  ... -0.07210901 -1.25165577\n",
            "  -1.21313424]\n",
            " [ 2.54356006 -0.57429739 -0.76520547 ... -0.0956865  -1.07989419\n",
            "  -1.0989021 ]\n",
            " [ 2.49863999 -0.90668077 -0.92416378 ... -1.00211012 -1.16887974\n",
            "  -1.05043998]\n",
            " ...\n",
            " [-0.06679515  0.31517926 -1.48051789 ... -0.73227881 -0.83282905\n",
            "  -1.2555386 ]\n",
            " [ 1.22091354 -0.71474107  0.90385686 ... -1.27194143 -0.31643922\n",
            "  -0.38581661]\n",
            " [-0.03185731 -0.56493448  1.06281518 ... -0.62748996  2.46731925\n",
            "   2.53490022]]\n"
          ],
          "name": "stdout"
        }
      ]
    },
    {
      "cell_type": "code",
      "metadata": {
        "id": "VmwljliVv1qP",
        "colab_type": "code",
        "colab": {}
      },
      "source": [
        "scaleddf = pd.DataFrame(scaleddf, columns = ['longitude', 'latitude',\t'housing_median_age',\t'total_rooms',\t'total_bedrooms',\t'population',\t'households',\t'median_income',\t'median_house_value'])"
      ],
      "execution_count": 0,
      "outputs": []
    },
    {
      "cell_type": "code",
      "metadata": {
        "id": "BdRV4ExIwkPC",
        "colab_type": "code",
        "outputId": "b1e40840-74a5-4b12-8fb9-9c530f9afd5c",
        "colab": {
          "base_uri": "https://localhost:8080/",
          "height": 317
        }
      },
      "source": [
        "scaleddf.describe()"
      ],
      "execution_count": 0,
      "outputs": [
        {
          "output_type": "execute_result",
          "data": {
            "text/html": [
              "<div>\n",
              "<style scoped>\n",
              "    .dataframe tbody tr th:only-of-type {\n",
              "        vertical-align: middle;\n",
              "    }\n",
              "\n",
              "    .dataframe tbody tr th {\n",
              "        vertical-align: top;\n",
              "    }\n",
              "\n",
              "    .dataframe thead th {\n",
              "        text-align: right;\n",
              "    }\n",
              "</style>\n",
              "<table border=\"1\" class=\"dataframe\">\n",
              "  <thead>\n",
              "    <tr style=\"text-align: right;\">\n",
              "      <th></th>\n",
              "      <th>longitude</th>\n",
              "      <th>latitude</th>\n",
              "      <th>housing_median_age</th>\n",
              "      <th>total_rooms</th>\n",
              "      <th>total_bedrooms</th>\n",
              "      <th>population</th>\n",
              "      <th>households</th>\n",
              "      <th>median_income</th>\n",
              "      <th>median_house_value</th>\n",
              "    </tr>\n",
              "  </thead>\n",
              "  <tbody>\n",
              "    <tr>\n",
              "      <th>count</th>\n",
              "      <td>2.000000e+04</td>\n",
              "      <td>2.000000e+04</td>\n",
              "      <td>2.000000e+04</td>\n",
              "      <td>2.000000e+04</td>\n",
              "      <td>2.000000e+04</td>\n",
              "      <td>2.000000e+04</td>\n",
              "      <td>2.000000e+04</td>\n",
              "      <td>2.000000e+04</td>\n",
              "      <td>2.000000e+04</td>\n",
              "    </tr>\n",
              "    <tr>\n",
              "      <th>mean</th>\n",
              "      <td>-4.224638e-15</td>\n",
              "      <td>-3.277933e-15</td>\n",
              "      <td>1.975420e-16</td>\n",
              "      <td>-7.558953e-17</td>\n",
              "      <td>-1.300682e-16</td>\n",
              "      <td>-7.552847e-17</td>\n",
              "      <td>1.319722e-16</td>\n",
              "      <td>-1.111111e-16</td>\n",
              "      <td>-3.298029e-16</td>\n",
              "    </tr>\n",
              "    <tr>\n",
              "      <th>std</th>\n",
              "      <td>1.000025e+00</td>\n",
              "      <td>1.000025e+00</td>\n",
              "      <td>1.000025e+00</td>\n",
              "      <td>1.000025e+00</td>\n",
              "      <td>1.000025e+00</td>\n",
              "      <td>1.000025e+00</td>\n",
              "      <td>1.000025e+00</td>\n",
              "      <td>1.000025e+00</td>\n",
              "      <td>1.000025e+00</td>\n",
              "    </tr>\n",
              "    <tr>\n",
              "      <th>min</th>\n",
              "      <td>-2.387665e+00</td>\n",
              "      <td>-1.445048e+00</td>\n",
              "      <td>-2.195830e+00</td>\n",
              "      <td>-1.210816e+00</td>\n",
              "      <td>-1.276665e+00</td>\n",
              "      <td>-1.257765e+00</td>\n",
              "      <td>-1.305998e+00</td>\n",
              "      <td>-1.774571e+00</td>\n",
              "      <td>-1.662283e+00</td>\n",
              "    </tr>\n",
              "    <tr>\n",
              "      <th>25%</th>\n",
              "      <td>-1.109939e+00</td>\n",
              "      <td>-7.943258e-01</td>\n",
              "      <td>-8.446846e-01</td>\n",
              "      <td>-5.449952e-01</td>\n",
              "      <td>-5.753208e-01</td>\n",
              "      <td>-5.637014e-01</td>\n",
              "      <td>-5.750955e-01</td>\n",
              "      <td>-6.891682e-01</td>\n",
              "      <td>-7.553403e-01</td>\n",
              "    </tr>\n",
              "    <tr>\n",
              "      <th>50%</th>\n",
              "      <td>5.371302e-01</td>\n",
              "      <td>-6.445192e-01</td>\n",
              "      <td>2.958612e-02</td>\n",
              "      <td>-2.348302e-01</td>\n",
              "      <td>-2.472342e-01</td>\n",
              "      <td>-2.294898e-01</td>\n",
              "      <td>-2.371515e-01</td>\n",
              "      <td>-1.768829e-01</td>\n",
              "      <td>-2.361033e-01</td>\n",
              "    </tr>\n",
              "    <tr>\n",
              "      <th>75%</th>\n",
              "      <td>7.816951e-01</td>\n",
              "      <td>9.752646e-01</td>\n",
              "      <td>6.654194e-01</td>\n",
              "      <td>2.352423e-01</td>\n",
              "      <td>2.591604e-01</td>\n",
              "      <td>2.638700e-01</td>\n",
              "      <td>2.736942e-01</td>\n",
              "      <td>4.595006e-01</td>\n",
              "      <td>5.012133e-01</td>\n",
              "    </tr>\n",
              "    <tr>\n",
              "      <th>max</th>\n",
              "      <td>2.623418e+00</td>\n",
              "      <td>2.960202e+00</td>\n",
              "      <td>1.857607e+00</td>\n",
              "      <td>1.622046e+01</td>\n",
              "      <td>1.404355e+01</td>\n",
              "      <td>3.028809e+01</td>\n",
              "      <td>1.462453e+01</td>\n",
              "      <td>5.855874e+00</td>\n",
              "      <td>2.534900e+00</td>\n",
              "    </tr>\n",
              "  </tbody>\n",
              "</table>\n",
              "</div>"
            ],
            "text/plain": [
              "          longitude      latitude  ...  median_income  median_house_value\n",
              "count  2.000000e+04  2.000000e+04  ...   2.000000e+04        2.000000e+04\n",
              "mean  -4.224638e-15 -3.277933e-15  ...  -1.111111e-16       -3.298029e-16\n",
              "std    1.000025e+00  1.000025e+00  ...   1.000025e+00        1.000025e+00\n",
              "min   -2.387665e+00 -1.445048e+00  ...  -1.774571e+00       -1.662283e+00\n",
              "25%   -1.109939e+00 -7.943258e-01  ...  -6.891682e-01       -7.553403e-01\n",
              "50%    5.371302e-01 -6.445192e-01  ...  -1.768829e-01       -2.361033e-01\n",
              "75%    7.816951e-01  9.752646e-01  ...   4.595006e-01        5.012133e-01\n",
              "max    2.623418e+00  2.960202e+00  ...   5.855874e+00        2.534900e+00\n",
              "\n",
              "[8 rows x 9 columns]"
            ]
          },
          "metadata": {
            "tags": []
          },
          "execution_count": 37
        }
      ]
    },
    {
      "cell_type": "code",
      "metadata": {
        "id": "Wx9W0mbRux94",
        "colab_type": "code",
        "outputId": "a143dea7-108c-455d-d253-979491bafd36",
        "colab": {
          "base_uri": "https://localhost:8080/",
          "height": 336
        }
      },
      "source": [
        "fig, (ax1, ax2) = plt.subplots(ncols=2, figsize=(6, 5))\n",
        "\n",
        "ax1.set_title('Before Scaling')\n",
        "sns.kdeplot(df['longitude'], ax=ax1)\n",
        "sns.kdeplot(df['housing_median_age'], ax=ax1)\n",
        "sns.kdeplot(df['total_rooms'], ax=ax1)\n",
        "ax2.set_title('After Standard Scaler')\n",
        "sns.kdeplot(scaleddf['longitude'], ax=ax2)\n",
        "sns.kdeplot(scaleddf['housing_median_age'], ax=ax2)\n",
        "sns.kdeplot(scaleddf['total_rooms'], ax=ax2)\n",
        "plt.show()"
      ],
      "execution_count": 0,
      "outputs": [
        {
          "output_type": "display_data",
          "data": {
            "image/png": "[encoded data removed]",
            "text/plain": [
              "<Figure size 432x360 with 2 Axes>"
            ]
          },
          "metadata": {
            "tags": []
          }
        }
      ]
    },
    {
      "cell_type": "markdown",
      "metadata": {
        "id": "Qgvji5sfI8OZ",
        "colab_type": "text"
      },
      "source": [
        "#Fitting on scaled data\n"
      ]
    },
    {
      "cell_type": "code",
      "metadata": {
        "id": "p6F5KgcxJDCk",
        "colab_type": "code",
        "colab": {}
      },
      "source": [
        "x = scaleddf.iloc[:,:-1]\n",
        "y = scaleddf.iloc[:,-1:]"
      ],
      "execution_count": 0,
      "outputs": []
    },
    {
      "cell_type": "code",
      "metadata": {
        "id": "LyWR3h28JBc1",
        "colab_type": "code",
        "outputId": "fd051d5b-f2ef-4adf-9cb3-669807c83867",
        "colab": {
          "base_uri": "https://localhost:8080/",
          "height": 286
        }
      },
      "source": [
        "#READ\n",
        "#first try vanila trees\n",
        "#then try pruning levels\n",
        "#then try pruning number of samples\n",
        "\n",
        "\n",
        "\n",
        "scorelistvarlr = []\n",
        "scorelistvardtree = []\n",
        "iteration = [1,2,3,4,5,6,7]# ,8,9,10,11,12,13,14,15,16,17,18,19,20\n",
        "\n",
        "for i in iteration:\n",
        "  xtrain,xtest,ytrain,ytest = train_test_split(x,y,test_size = 30, shuffle = True) #shuffle = False to trun of shuffle\n",
        "  \n",
        "  varLR = LinearRegression()\n",
        "  varLR.fit(xtrain,ytrain)\n",
        "  scorevarLR = varLR.score(xtest,ytest)\n",
        "  \n",
        "  #You can prune a dtree by defining arguments that limit its growth\n",
        "  vardtree = DecisionTreeRegressor(max_depth = 7) #max_depth = 15 #min_samples_split Use\n",
        "  vardtree.fit(xtrain,ytrain)\n",
        "  scorevardtree = vardtree.score(xtest,ytest)\n",
        "  \n",
        "  \n",
        "  \n",
        "  scorelistvarlr.append(scorevarLR)\n",
        "  scorelistvardtree.append(scorevardtree)\n",
        "  \n",
        "\n",
        "  \n",
        "plt.plot(iteration,scorelistvarlr, label = 'LR')\n",
        "plt.plot(iteration,scorelistvardtree, label = 'Dtree')"
      ],
      "execution_count": 0,
      "outputs": [
        {
          "output_type": "execute_result",
          "data": {
            "text/plain": [
              "[<matplotlib.lines.Line2D at 0x7fe2da240f60>]"
            ]
          },
          "metadata": {
            "tags": []
          },
          "execution_count": 78
        },
        {
          "output_type": "display_data",
          "data": {
            "image/png": "[encoded data removed]",
            "text/plain": [
              "<Figure size 432x288 with 1 Axes>"
            ]
          },
          "metadata": {
            "tags": []
          }
        }
      ]
    },
    {
      "cell_type": "markdown",
      "metadata": {
        "id": "wXUBtrvtJxhb",
        "colab_type": "text"
      },
      "source": [
        "#Fitting on normalised data"
      ]
    },
    {
      "cell_type": "markdown",
      "metadata": {
        "id": "ENP4KfQnJ7jE",
        "colab_type": "text"
      },
      "source": [
        "**Normalisation**"
      ]
    },
    {
      "cell_type": "code",
      "metadata": {
        "id": "Kgj69_xrJ1j_",
        "colab_type": "code",
        "outputId": "548ac902-4c28-45f8-c06a-4f93e24f7aeb",
        "colab": {
          "base_uri": "https://localhost:8080/",
          "height": 303
        }
      },
      "source": [
        "from mpl_toolkits.mplot3d import Axes3D\n",
        "from sklearn import preprocessing\n",
        "\n",
        "\n",
        "scaler = preprocessing.Normalizer()\n",
        "normaliseddf = scaler.fit_transform(df)\n",
        "\n",
        "normaliseddf = pd.DataFrame(normaliseddf, columns = ['longitude', 'latitude',\t'housing_median_age',\t'total_rooms',\t'total_bedrooms',\t'population',\t'households',\t'median_income',\t'median_house_value'])\n",
        "\n",
        "\n",
        "\n",
        "fig = plt.figure(figsize=(9, 5))\n",
        "ax1 = fig.add_subplot(121, projection='3d')\n",
        "ax2 = fig.add_subplot(122, projection='3d')\n",
        "ax1.scatter(df['longitude'], df['housing_median_age'], df['total_rooms'])\n",
        "ax2.scatter(normaliseddf['longitude'], normaliseddf['housing_median_age'], normaliseddf['total_rooms'])\n",
        "plt.show()"
      ],
      "execution_count": 0,
      "outputs": [
        {
          "output_type": "display_data",
          "data": {
            "image/png": "[encoded data removed]",
            "text/plain": [
              "<Figure size 648x360 with 2 Axes>"
            ]
          },
          "metadata": {
            "tags": []
          }
        }
      ]
    },
    {
      "cell_type": "code",
      "metadata": {
        "id": "NhqXtruIKOrl",
        "colab_type": "code",
        "colab": {}
      },
      "source": [
        "x = normaliseddf.iloc[:,:-1]\n",
        "y = normaliseddf.iloc[:,-1:]"
      ],
      "execution_count": 0,
      "outputs": []
    },
    {
      "cell_type": "code",
      "metadata": {
        "id": "c6iajN_PKV00",
        "colab_type": "code",
        "outputId": "0356d848-99dc-439c-cea4-5ba72d5f8dbe",
        "colab": {
          "base_uri": "https://localhost:8080/",
          "height": 286
        }
      },
      "source": [
        "#READ\n",
        "#first try vanila trees\n",
        "#then try pruning levels\n",
        "#then try pruning number of samples\n",
        "\n",
        "scorelistvarlr = []\n",
        "scorelistvardtree = []\n",
        "iteration = [1,2,3,4,5,6,7]# ,8,9,10,11,12,13,14,15,16,17,18,19,20\n",
        "\n",
        "for i in iteration:\n",
        "  xtrain,xtest,ytrain,ytest = train_test_split(x,y,test_size = 30, shuffle = True) #shuffle = False to trun of shuffle\n",
        "  \n",
        "  varLR = LinearRegression()\n",
        "  varLR.fit(xtrain,ytrain)\n",
        "  scorevarLR = varLR.score(xtest,ytest)\n",
        "  \n",
        "  #You can prune a dtree by defining arguments that limit its growth\n",
        "  vardtree = DecisionTreeRegressor(max_depth = 7) #max_depth = 15 #min_samples_split Use\n",
        "  vardtree.fit(xtrain,ytrain)\n",
        "  scorevardtree = vardtree.score(xtest,ytest)\n",
        "  \n",
        "  \n",
        "  \n",
        "  scorelistvarlr.append(scorevarLR)\n",
        "  scorelistvardtree.append(scorevardtree)\n",
        "  \n",
        "\n",
        "  \n",
        "plt.plot(iteration,scorelistvarlr, label = 'LR')\n",
        "plt.plot(iteration,scorelistvardtree, label = 'Dtree')"
      ],
      "execution_count": 0,
      "outputs": [
        {
          "output_type": "execute_result",
          "data": {
            "text/plain": [
              "[<matplotlib.lines.Line2D at 0x7fe2d98eacf8>]"
            ]
          },
          "metadata": {
            "tags": []
          },
          "execution_count": 87
        },
        {
          "output_type": "display_data",
          "data": {
            "image/png": "[encoded data removed]",
            "text/plain": [
              "<Figure size 432x288 with 1 Axes>"
            ]
          },
          "metadata": {
            "tags": []
          }
        }
      ]
    },
    {
      "cell_type": "code",
      "metadata": {
        "id": "SpXk1pmI35K8",
        "colab_type": "code",
        "colab": {}
      },
      "source": [
        "y.info()"
      ],
      "execution_count": 0,
      "outputs": []
    },
    {
      "cell_type": "code",
      "metadata": {
        "id": "Ft0oPJxxIbcd",
        "colab_type": "code",
        "outputId": "6dd4a45a-ab32-49fb-b3bd-0092426ef55b",
        "colab": {
          "base_uri": "https://localhost:8080/",
          "height": 34
        }
      },
      "source": [
        "print(ada.score(xtrain,ytrain))"
      ],
      "execution_count": 0,
      "outputs": [
        {
          "output_type": "stream",
          "text": [
            "0.0471206810215323\n"
          ],
          "name": "stdout"
        }
      ]
    },
    {
      "cell_type": "markdown",
      "metadata": {
        "id": "9iOPeGjKJDLW",
        "colab_type": "text"
      },
      "source": [
        "# Let's use cross validation to sample data sets\n",
        "\n",
        "Corssvalidation seems to be the most effective way of countering variance when generating the final model."
      ]
    },
    {
      "cell_type": "code",
      "metadata": {
        "id": "i-PtYq8BI1Vh",
        "colab_type": "code",
        "outputId": "31bf81e1-c84b-4550-e90c-677a4d4e3d62",
        "colab": {
          "base_uri": "https://localhost:8080/",
          "height": 187
        }
      },
      "source": [
        "\n",
        "scorelistada = []\n",
        "\n",
        "iteration = [1,2,3,4,5] #,6,7,8,9,10,11,12,13,14,15,16,17,18,19,20\n",
        "\n",
        "for i in iteration:\n",
        "  xtrain,xtest,ytrain,ytest = train_test_split(x,y,test_size = 30, shuffle = True)\n",
        "  scores = cross_val_score(LR, x, y, cv=7)\n",
        "  print(scores)"
      ],
      "execution_count": 0,
      "outputs": [
        {
          "output_type": "stream",
          "text": [
            "[0.4717486  0.57580857 0.49556648 0.55322819 0.70919436 0.6569922\n",
            " 0.61498799]\n",
            "[0.4717486  0.57580857 0.49556648 0.55322819 0.70919436 0.6569922\n",
            " 0.61498799]\n",
            "[0.4717486  0.57580857 0.49556648 0.55322819 0.70919436 0.6569922\n",
            " 0.61498799]\n",
            "[0.4717486  0.57580857 0.49556648 0.55322819 0.70919436 0.6569922\n",
            " 0.61498799]\n",
            "[0.4717486  0.57580857 0.49556648 0.55322819 0.70919436 0.6569922\n",
            " 0.61498799]\n"
          ],
          "name": "stdout"
        }
      ]
    },
    {
      "cell_type": "code",
      "metadata": {
        "id": "RPxgnRWCJysv",
        "colab_type": "code",
        "outputId": "a99a536f-a6f8-4db7-f4f0-69d094446c8e",
        "colab": {
          "base_uri": "https://localhost:8080/",
          "height": 34
        }
      },
      "source": [
        "xtrain,xtest,ytrain,ytest = train_test_split(x,y,test_size = 30, shuffle = True)\n",
        "scores = cross_val_score(LR, x, y, cv=5)\n",
        "print(scores)"
      ],
      "execution_count": 0,
      "outputs": [
        {
          "output_type": "stream",
          "text": [
            "[0.55730779 0.53843763 0.62391715 0.67984301 0.64000578]\n"
          ],
          "name": "stdout"
        }
      ]
    }
  ]
}