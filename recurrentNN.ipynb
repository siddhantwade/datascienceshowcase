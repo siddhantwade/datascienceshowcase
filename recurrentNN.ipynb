{
  "nbformat": 4,
  "nbformat_minor": 0,
  "metadata": {
    "colab": {
      "name": "recurrentNN.ipynb",
      "version": "0.3.2",
      "provenance": []
    },
    "kernelspec": {
      "name": "python3",
      "display_name": "Python 3"
    }
  },
  "cells": [
    {
      "cell_type": "markdown",
      "metadata": {
        "id": "oGqIbAaA-ZLJ",
        "colab_type": "text"
      },
      "source": [
        "Recurrent Neural Network remembers the past and it’s decisions are influenced by what it has learnt from the past. Note: Basic feed forward networks “remember” things too, but they remember things they learnt during training. For example, an image classifier learns what a “1” looks like during training and then uses that knowledge to classify things in production.\n",
        "While RNNs learn similarly while training, in addition, they remember things learnt from prior input(s) while generating output(s). It’s part of the network. RNNs can take one or more input vectors and produce one or more output vectors and the output(s) are influenced not just by weights applied on inputs like a regular NN, but also by a “hidden” state vector representing the context based on prior input(s)/output(s). So, the same input could produce a different output depending on previous inputs in the series.\n",
        "\n"
      ]
    },
    {
      "cell_type": "code",
      "metadata": {
        "id": "3vmmPZ_F-nTK",
        "colab_type": "code",
        "colab": {}
      },
      "source": [
        "import io\n",
        "import numpy as np\n",
        "import keras\n",
        "from keras.utils.data_utils import get_file\n",
        "\n",
        "path = get_file('nietzsche.txt', origin='https://s3.amazonaws.com/text-datasets/nietzsche.txt')\n",
        "with io.open(path, encoding='utf-8') as f:\n",
        "    text = f.read().lower()\n",
        "\n",
        "len(text)"
      ],
      "execution_count": 0,
      "outputs": []
    },
    {
      "cell_type": "code",
      "metadata": {
        "id": "dRoOcx3b-odj",
        "colab_type": "code",
        "colab": {}
      },
      "source": [
        "text[:400]\n"
      ],
      "execution_count": 0,
      "outputs": []
    },
    {
      "cell_type": "markdown",
      "metadata": {
        "id": "f9LBWlpF-ta3",
        "colab_type": "text"
      },
      "source": [
        "Get the unique set of characters that appear in the text. This is our vocabulary.\n",
        "\n"
      ]
    },
    {
      "cell_type": "code",
      "metadata": {
        "id": "P9a5hSWD-vjY",
        "colab_type": "code",
        "colab": {}
      },
      "source": [
        "chars = sorted(list(set(text)))\n",
        "vocab_size = len(chars)\n",
        "vocab_size"
      ],
      "execution_count": 0,
      "outputs": []
    },
    {
      "cell_type": "code",
      "metadata": {
        "id": "ZDZt_xp4-w88",
        "colab_type": "code",
        "colab": {}
      },
      "source": [
        "''.join(chars)"
      ],
      "execution_count": 0,
      "outputs": []
    },
    {
      "cell_type": "markdown",
      "metadata": {
        "id": "CH55wEBZ-43d",
        "colab_type": "text"
      },
      "source": [
        "\n",
        "Create a dictionary that maps each unique character to an integer, which is what we'll feed into the model. The actual integer used isn't important, it just has to be unique (here we just take the index from the \"chars\" list above). It's also useful to have a reverse mapping to get back to characters in order to do something with the model output. Finally, create a \"mapped\" corpus where each character in the data has been replaced with its corresponding integer."
      ]
    },
    {
      "cell_type": "code",
      "metadata": {
        "id": "jIU6kUC0-5nS",
        "colab_type": "code",
        "colab": {}
      },
      "source": [
        "\n",
        "char_indices = {c: i for i, c in enumerate(chars)}\n",
        "indices_char = {i: c for i, c in enumerate(chars)}\n",
        "idx = [char_indices[c] for c in text]\n",
        "\n",
        "idx[:20]"
      ],
      "execution_count": 0,
      "outputs": []
    },
    {
      "cell_type": "markdown",
      "metadata": {
        "id": "LVxQLM9L--j9",
        "colab_type": "text"
      },
      "source": [
        "For converting integers back to characters simply use below snippet"
      ]
    },
    {
      "cell_type": "code",
      "metadata": {
        "id": "yRNNlE3L_DVM",
        "colab_type": "code",
        "colab": {}
      },
      "source": [
        "Example of how to convert from integers back to characters.\n",
        "\n"
      ],
      "execution_count": 0,
      "outputs": []
    },
    {
      "cell_type": "code",
      "metadata": {
        "id": "Xtkzt7ez_ED6",
        "colab_type": "code",
        "colab": {}
      },
      "source": [
        "''.join(indices_char[i] for i in idx[:100])"
      ],
      "execution_count": 0,
      "outputs": []
    },
    {
      "cell_type": "markdown",
      "metadata": {
        "id": "bDdTgkAb_GJR",
        "colab_type": "text"
      },
      "source": [
        "\n",
        "\n",
        "> For our first attempt, we'll build a model that accepts a 3-character sequence as input and tries to predict the following character in the text. For simplicity, we can just manually create each character sequence. Start by creating lists that take every 3rd character, offset by some amount between 0 and 3.\n",
        "\n",
        "\n",
        "\n"
      ]
    },
    {
      "cell_type": "code",
      "metadata": {
        "id": "X04-8UdS_aFZ",
        "colab_type": "code",
        "colab": {}
      },
      "source": [
        "\n",
        "cs = 3\n",
        "c1 = [idx[i] for i in range(0, len(idx) - cs, cs)]\n",
        "c2 = [idx[i + 1] for i in range(0, len(idx) - cs, cs)]\n",
        "c3 = [idx[i + 2] for i in range(0, len(idx) - cs, cs)]\n",
        "c4 = [idx[i + 3] for i in range(0, len(idx) - cs, cs)]"
      ],
      "execution_count": 0,
      "outputs": []
    },
    {
      "cell_type": "markdown",
      "metadata": {
        "id": "tgOj_3jW_b6Z",
        "colab_type": "text"
      },
      "source": [
        "\n",
        "This just converts the lists to numpy arrays. Notice that this approach resulted in non-overlapping sequences, i.e. we use characters 0-2 to predict character 3, then characters 3-5 to predict character 6, etc. That's why the array shape is about 1/3 the size of the original text. We'll see how to improve on this later."
      ]
    },
    {
      "cell_type": "code",
      "metadata": {
        "id": "0vI3XE3N_ikM",
        "colab_type": "code",
        "colab": {}
      },
      "source": [
        "x1 = np.stack(c1)\n",
        "x2 = np.stack(c2)\n",
        "x3 = np.stack(c3)\n",
        "y = np.stack(c4)\n",
        "\n",
        "x1.shape, y.shape"
      ],
      "execution_count": 0,
      "outputs": []
    },
    {
      "cell_type": "markdown",
      "metadata": {
        "id": "23ZGeFpz_kAk",
        "colab_type": "text"
      },
      "source": [
        "\n",
        "Our model will use embeddings to represent each character. This is why we converted them to integers before - each integer gets turned into a vector in the embedding layer. Set some variables for the embedding vector size and the number of hidden units to use in the model. Finally, we need to convert the target variable to a one-hot character encoding. This is because the model outputs a probability for each character, and in order to score this properly it needs to be able to compare that output with an array that's structured the same way."
      ]
    },
    {
      "cell_type": "code",
      "metadata": {
        "id": "36ho-sOU_n9_",
        "colab_type": "code",
        "colab": {}
      },
      "source": [
        "\n",
        "n_factors = 42\n",
        "n_hidden = 256\n",
        "y_cat = keras.utils.to_categorical(y)\n",
        "\n",
        "y_cat.shape"
      ],
      "execution_count": 0,
      "outputs": []
    },
    {
      "cell_type": "markdown",
      "metadata": {
        "id": "1Qqlrko3_p-m",
        "colab_type": "text"
      },
      "source": [
        "Now we get to the first iteration of our model. The way I've structred this is by defining the layers of the model so that they can be re-used across multiple inputs. For example, rather than create an embedding layer for each of the three character inputs, we're instead creating one embedding layer and sharing it. This is a reasonable approach to handling sequences since each input comes from an identical distribution.\n",
        "\n",
        "The next thing to observe is the part where h is defined. The first character is fed through the hidden layer like normal, but the other characters in the sequence are doing something different. We're re-using the same layer, but instead of just taking the character as input, we're using the character + the previous output h. This is the \"hidden\" state of the model. I think about it in the following way: \"give me the output of this layer for character c conditioned on the fact that these other characters (represented by h) came before it\".\n",
        "\n",
        "You'll notice that there's no use of an RNN class at all. Basically what's going on here is we're implmenting an \"unrolled\" RNN from scratch on our own."
      ]
    },
    {
      "cell_type": "code",
      "metadata": {
        "id": "kU-AoHIz_2UW",
        "colab_type": "code",
        "colab": {}
      },
      "source": [
        "from keras import backend as K\n",
        "from keras.models import Model\n",
        "from keras.layers import add\n",
        "from keras.layers import Input, Reshape, Dense, Add\n",
        "from keras.layers.embeddings import Embedding\n",
        "from keras.optimizers import Adam\n",
        "\n",
        "def Char3Model(vocab_size, n_factors, n_hidden):\n",
        "    embed_layer = Embedding(vocab_size, n_factors)\n",
        "    reshape_layer = Reshape((n_factors,))\n",
        "    input_layer = Dense(n_hidden, activation='relu')\n",
        "    hidden_layer = Dense(n_hidden, activation='tanh')\n",
        "    output_layer = Dense(vocab_size - 1, activation='softmax')\n",
        "\n",
        "    in1 = Input(shape=(1,))\n",
        "    in2 = Input(shape=(1,))\n",
        "    in3 = Input(shape=(1,))\n",
        "\n",
        "    c1 = input_layer(reshape_layer(embed_layer(in1)))\n",
        "    c2 = input_layer(reshape_layer(embed_layer(in2)))\n",
        "    c3 = input_layer(reshape_layer(embed_layer(in3)))\n",
        "\n",
        "    h = hidden_layer(c1)\n",
        "    h = hidden_layer(add([h, c2]))\n",
        "    h = hidden_layer(add([h, c3]))\n",
        "\n",
        "    out = output_layer(h)\n",
        "\n",
        "    model = Model(inputs=[in1, in2, in3], outputs=out)\n",
        "    opt = Adam(lr=0.01)\n",
        "    model.compile(loss='categorical_crossentropy', optimizer=opt)\n",
        "\n",
        "    return model"
      ],
      "execution_count": 0,
      "outputs": []
    },
    {
      "cell_type": "markdown",
      "metadata": {
        "id": "Nc5vMH96_4wm",
        "colab_type": "text"
      },
      "source": [
        "Train the model for a few epochs.\n",
        "\n"
      ]
    },
    {
      "cell_type": "code",
      "metadata": {
        "id": "KT0Ak-0-_8pV",
        "colab_type": "code",
        "colab": {}
      },
      "source": [
        "model = Char3Model(vocab_size, n_factors, n_hidden)\n",
        "history = model.fit(x=[x1, x2, x3], y=y_cat, batch_size=512, epochs=3, verbose=1)"
      ],
      "execution_count": 0,
      "outputs": []
    },
    {
      "cell_type": "markdown",
      "metadata": {
        "id": "g87tG8BO_--D",
        "colab_type": "text"
      },
      "source": [
        "In order to make sense of the model's output, we need a helper function that converts the character probability array that it returns into an actual character. This is where the reverse lookup table we created earlier comes in handy!"
      ]
    },
    {
      "cell_type": "code",
      "metadata": {
        "id": "WfDGa3XBARyI",
        "colab_type": "code",
        "colab": {}
      },
      "source": [
        "def get_next_char(model, s):\n",
        "    idxs = [np.array([char_indices[c]]) for c in s]\n",
        "    pred = model.predict(idxs)\n",
        "    char_idx = np.argmax(pred)\n",
        "    return chars[char_idx]\n",
        "\n",
        "get_next_char(model, ' th')"
      ],
      "execution_count": 0,
      "outputs": []
    },
    {
      "cell_type": "code",
      "metadata": {
        "id": "Wc3k_q6fATQS",
        "colab_type": "code",
        "colab": {}
      },
      "source": [
        "get_next_char(model, 'and')\n"
      ],
      "execution_count": 0,
      "outputs": []
    },
    {
      "cell_type": "markdown",
      "metadata": {
        "id": "yhafU4CgAXVm",
        "colab_type": "text"
      },
      "source": [
        "\n",
        "It appears to be spitting out considerably relevant results. The 3-character approach is very limiting though. That's not enough context for even a full word most of the time. For our next step, let's expand the input window to 8 characters. We can create an input array using some list comprehension magic to output a list of lists, then stacking them together into an array. Try experimenting with the logic below yourself to get a better sense of what it's doing. The target array is created in a similar manner as before."
      ]
    },
    {
      "cell_type": "code",
      "metadata": {
        "id": "ibE1jp-bAg_C",
        "colab_type": "code",
        "colab": {}
      },
      "source": [
        "cs = 8\n",
        "\n",
        "c_in = [[idx[i + j] for i in range(cs)] for j in range(len(idx) - cs)]\n",
        "c_out = [idx[j + cs] for j in range(len(idx) - cs)]\n",
        "\n",
        "X = np.stack(c_in, axis=0)\n",
        "y = np.stack(c_out)"
      ],
      "execution_count": 0,
      "outputs": []
    },
    {
      "cell_type": "markdown",
      "metadata": {
        "id": "PYloGmCdAjai",
        "colab_type": "text"
      },
      "source": [
        "we're making better use of our data by making the sequences overlapping. For example, the first \"row\" in the data uses characters 0-7 to predict character 8. The next \"row\" uses characters 1-8 to predict character 9, and so on. We just increment by one each time. It does create a lot of duplicate data, but that's not a huge issue with a corpus of this size."
      ]
    },
    {
      "cell_type": "code",
      "metadata": {
        "id": "yxRoPJevAtTn",
        "colab_type": "code",
        "colab": {}
      },
      "source": [
        "X.shape, y.shape\n"
      ],
      "execution_count": 0,
      "outputs": []
    },
    {
      "cell_type": "markdown",
      "metadata": {
        "id": "z-fAqMasAun6",
        "colab_type": "text"
      },
      "source": [
        "\n",
        "It helps to look at an example to see how the data is formatted. Each row is a sequence of 8 characters from the text. As you go down the rows it's apparent they're offset by one character."
      ]
    },
    {
      "cell_type": "code",
      "metadata": {
        "id": "Ip-8WmVuA0cp",
        "colab_type": "code",
        "colab": {}
      },
      "source": [
        "X[:cs, :cs]"
      ],
      "execution_count": 0,
      "outputs": []
    },
    {
      "cell_type": "code",
      "metadata": {
        "id": "sOs04eoGA1zx",
        "colab_type": "code",
        "colab": {}
      },
      "source": [
        "y[:cs]\n"
      ],
      "execution_count": 0,
      "outputs": []
    },
    {
      "cell_type": "markdown",
      "metadata": {
        "id": "H489LXZ_A4hS",
        "colab_type": "text"
      },
      "source": [
        "\n",
        "Since we have separate inputs for each character, Keras expects separate arrays rather than one big array. Also need to one-hot encode the target again."
      ]
    },
    {
      "cell_type": "markdown",
      "metadata": {
        "id": "nuXAtLvsA69p",
        "colab_type": "text"
      },
      "source": [
        "The 8-character model works exactly the same way as the 3-character model, there are just more of the same steps. Rather than write them all out in code, I converted it to a loop. Again, this is almost exactly the way an RNN works under the hood."
      ]
    },
    {
      "cell_type": "code",
      "metadata": {
        "id": "OTZZHSLLBCNL",
        "colab_type": "code",
        "colab": {}
      },
      "source": [
        "def CharLoopModel(vocab_size, n_chars, n_factors, n_hidden):\n",
        "    embed_layer = Embedding(vocab_size, n_factors)\n",
        "    reshape_layer = Reshape((n_factors,))\n",
        "    input_layer = Dense(n_hidden, activation='relu')\n",
        "    hidden_layer = Dense(n_hidden, activation='tanh')\n",
        "    output_layer = Dense(vocab_size, activation='softmax')\n",
        "    \n",
        "    inputs = []\n",
        "    for i in range(n_chars):\n",
        "        inp = Input(shape=(1,))\n",
        "        inputs.append(inp)\n",
        "        c = input_layer(reshape_layer(embed_layer(inp)))\n",
        "        if i == 0:\n",
        "            h = hidden_layer(c)\n",
        "        else:\n",
        "            h = hidden_layer(add([h, c]))\n",
        "\n",
        "    out = output_layer(h)\n",
        "\n",
        "    model = Model(inputs=inputs, outputs=out)\n",
        "    opt = Adam(lr=0.001)\n",
        "    model.compile(loss='categorical_crossentropy', optimizer=opt)\n",
        "\n",
        "    return model"
      ],
      "execution_count": 0,
      "outputs": []
    },
    {
      "cell_type": "markdown",
      "metadata": {
        "id": "tKg3xKiJBEEX",
        "colab_type": "text"
      },
      "source": [
        "Train the model a bit and generate some predictions.\n",
        "\n"
      ]
    },
    {
      "cell_type": "code",
      "metadata": {
        "id": "XCDCOHtrBF4O",
        "colab_type": "code",
        "colab": {}
      },
      "source": [
        "model = CharLoopModel(vocab_size, cs, n_factors, n_hidden)\n",
        "history = model.fit(x=X_array, y=y_cat, batch_size=512, epochs=5, verbose=1)\n"
      ],
      "execution_count": 0,
      "outputs": []
    },
    {
      "cell_type": "code",
      "metadata": {
        "id": "4Gtd3H8NEJ-r",
        "colab_type": "code",
        "outputId": "32f73ff2-135d-41ca-869e-dbc0b0e1df1e",
        "colab": {
          "base_uri": "https://localhost:8080/",
          "height": 34
        }
      },
      "source": [
        "get_next_char(model, 'for thos')\n"
      ],
      "execution_count": 0,
      "outputs": [
        {
          "output_type": "execute_result",
          "data": {
            "text/plain": [
              "'e'"
            ]
          },
          "metadata": {
            "tags": []
          },
          "execution_count": 24
        }
      ]
    },
    {
      "cell_type": "code",
      "metadata": {
        "id": "UEHoBvM5ELOa",
        "colab_type": "code",
        "outputId": "d4d27a70-7538-44ac-d7b0-8ef1a01f2c31",
        "colab": {
          "base_uri": "https://localhost:8080/",
          "height": 34
        }
      },
      "source": [
        "get_next_char(model, 'queens a')\n"
      ],
      "execution_count": 0,
      "outputs": [
        {
          "output_type": "execute_result",
          "data": {
            "text/plain": [
              "'n'"
            ]
          },
          "metadata": {
            "tags": []
          },
          "execution_count": 25
        }
      ]
    },
    {
      "cell_type": "markdown",
      "metadata": {
        "id": "zJphG1yhEMx4",
        "colab_type": "text"
      },
      "source": [
        "\n",
        "Now we're ready to replace the loop with a real recurrent layer. The first thing to notice is that we no longer need to create separate inputs for each step in the sequence - recurrent layers in Keras are designed to accept 3-dimensional arrays where the 2nd dimension is the number of timesteps. We just need to add an extra dimension to the input shape with the number of characters.\n",
        "\n",
        "The second wrinkle is the use of the \"TimeDistributed\" class on the embedding layer. Just as with the input, this is another more convenient way of doing what we were already doing by defining and re-using layers. Wrapping a layer with \"TimeDistributed\" basically says \"apply this to every timestep in the array\". Like the RNN, it expects (and returns) a 3-dimensional array. The reshape operation is the same story, we just add another dimension to it. The RNN layer itself is very straightforward."
      ]
    },
    {
      "cell_type": "code",
      "metadata": {
        "id": "UfXoyIKMEcC3",
        "colab_type": "code",
        "colab": {}
      },
      "source": [
        "from keras.layers import TimeDistributed, SimpleRNN\n",
        "\n",
        "def CharRnn(vocab_size, n_chars, n_factors, n_hidden):\n",
        "    i = Input(shape=(n_chars, 1))\n",
        "    x = TimeDistributed(Embedding(vocab_size, n_factors))(i)\n",
        "    x = Reshape((n_chars, n_factors))(x)\n",
        "    x = SimpleRNN(n_hidden, activation='tanh')(x)\n",
        "    x = Dense(vocab_size, activation='softmax')(x)\n",
        "\n",
        "    model = Model(inputs=i, outputs=x)\n",
        "    opt = Adam(lr=0.001)\n",
        "    model.compile(loss='categorical_crossentropy', optimizer=opt)\n",
        "\n",
        "    return model"
      ],
      "execution_count": 0,
      "outputs": []
    },
    {
      "cell_type": "markdown",
      "metadata": {
        "id": "n5ksr5HoEcbX",
        "colab_type": "text"
      },
      "source": [
        "\n",
        "Let's look at a summary of the model. Notice the array shapes have a third dimension to them until we get on the other side of the RNN."
      ]
    },
    {
      "cell_type": "code",
      "metadata": {
        "id": "N7w3WgYIEfuG",
        "colab_type": "code",
        "outputId": "ae23648f-2e06-4a28-a46d-821e96aa382e",
        "colab": {
          "base_uri": "https://localhost:8080/",
          "height": 306
        }
      },
      "source": [
        "\n",
        "model = CharRnn(vocab_size, cs, n_factors, n_hidden)\n",
        "model.summary()"
      ],
      "execution_count": 0,
      "outputs": [
        {
          "output_type": "stream",
          "text": [
            "_________________________________________________________________\n",
            "Layer (type)                 Output Shape              Param #   \n",
            "=================================================================\n",
            "input_12 (InputLayer)        (None, 8, 1)              0         \n",
            "_________________________________________________________________\n",
            "time_distributed_1 (TimeDist (None, 8, 1, 42)          2394      \n",
            "_________________________________________________________________\n",
            "reshape_3 (Reshape)          (None, 8, 42)             0         \n",
            "_________________________________________________________________\n",
            "simple_rnn_1 (SimpleRNN)     (None, 256)               76544     \n",
            "_________________________________________________________________\n",
            "dense_7 (Dense)              (None, 57)                14649     \n",
            "=================================================================\n",
            "Total params: 93,587\n",
            "Trainable params: 93,587\n",
            "Non-trainable params: 0\n",
            "_________________________________________________________________\n"
          ],
          "name": "stdout"
        }
      ]
    },
    {
      "cell_type": "markdown",
      "metadata": {
        "id": "QyNkpSeaEhKQ",
        "colab_type": "text"
      },
      "source": [
        "Reshape the input to match the 3-dimensional input format of (rows, timesteps, features). Since we only have one feature, the last dimension is trivially set to one."
      ]
    },
    {
      "cell_type": "code",
      "metadata": {
        "id": "4pgcq-GNElEz",
        "colab_type": "code",
        "outputId": "6d33d613-cb47-43d8-eec6-326d699a63eb",
        "colab": {
          "base_uri": "https://localhost:8080/",
          "height": 34
        }
      },
      "source": [
        "\n",
        "X = X.reshape((X.shape[0], cs, 1))\n",
        "X.shape"
      ],
      "execution_count": 0,
      "outputs": [
        {
          "output_type": "execute_result",
          "data": {
            "text/plain": [
              "(600885, 8, 1)"
            ]
          },
          "metadata": {
            "tags": []
          },
          "execution_count": 29
        }
      ]
    },
    {
      "cell_type": "markdown",
      "metadata": {
        "id": "J9Xop_-5EnbS",
        "colab_type": "text"
      },
      "source": [
        "Train the model for a bit. Notice that the loss looks almost identical to the last model! All we really did is shuffle things around to take advantage of some built-in classes that Keras provides. The model structure and performance should look no different than before."
      ]
    },
    {
      "cell_type": "code",
      "metadata": {
        "id": "t0Y2O3SKEqU3",
        "colab_type": "code",
        "outputId": "eb43b3ec-3c36-47ce-b2c8-8c0f96d87e81",
        "colab": {
          "base_uri": "https://localhost:8080/",
          "height": 187
        }
      },
      "source": [
        "history = model.fit(x=X, y=y_cat, batch_size=512, epochs=5, verbose=1)\n"
      ],
      "execution_count": 0,
      "outputs": [
        {
          "output_type": "stream",
          "text": [
            "Epoch 1/5\n",
            "600885/600885 [==============================] - 133s 222us/step - loss: 2.2960\n",
            "Epoch 2/5\n",
            "600885/600885 [==============================] - 134s 222us/step - loss: 1.8446\n",
            "Epoch 3/5\n",
            "600885/600885 [==============================] - 131s 218us/step - loss: 1.6646\n",
            "Epoch 4/5\n",
            "600885/600885 [==============================] - 132s 220us/step - loss: 1.5695\n",
            "Epoch 5/5\n",
            "600885/600885 [==============================] - 133s 221us/step - loss: 1.5125\n"
          ],
          "name": "stdout"
        }
      ]
    },
    {
      "cell_type": "markdown",
      "metadata": {
        "id": "rcE55rADEqwA",
        "colab_type": "text"
      },
      "source": [
        "We can train it a bit longer at a lower learning rate to reduce the loss further.\n",
        "\n",
        "\n"
      ]
    },
    {
      "cell_type": "code",
      "metadata": {
        "id": "1Ygz2iSFLa-A",
        "colab_type": "code",
        "colab": {}
      },
      "source": [
        "K.set_value(model.optimizer.lr, 0.0001)\n",
        "history = model.fit(x=X, y=y_cat, batch_size=512, epochs=3, verbose=1)\n"
      ],
      "execution_count": 0,
      "outputs": []
    },
    {
      "cell_type": "code",
      "metadata": {
        "id": "JXRlErd-Lcsf",
        "colab_type": "code",
        "colab": {
          "base_uri": "https://localhost:8080/",
          "height": 198
        },
        "outputId": "005e22ac-d043-49c5-ea7a-7e0b1a9fdb75"
      },
      "source": [
        "\n",
        "def get_next_char(model, s):\n",
        "    idxs = np.array([char_indices[c] for c in s])\n",
        "    idxs = idxs.reshape((1, idxs.shape[0], 1))\n",
        "    pred = model.predict(idxs)\n",
        "    char_idx = np.argmax(pred)\n",
        "    return chars[char_idx]\n",
        "\n",
        "get_next_char(model, 'for thos')"
      ],
      "execution_count": 1,
      "outputs": [
        {
          "output_type": "error",
          "ename": "NameError",
          "evalue": "ignored",
          "traceback": [
            "\u001b[0;31m---------------------------------------------------------------------------\u001b[0m",
            "\u001b[0;31mNameError\u001b[0m                                 Traceback (most recent call last)",
            "\u001b[0;32m<ipython-input-1-050fb7882fa5>\u001b[0m in \u001b[0;36m<module>\u001b[0;34m()\u001b[0m\n\u001b[1;32m      7\u001b[0m     \u001b[0;32mreturn\u001b[0m \u001b[0mchars\u001b[0m\u001b[0;34m[\u001b[0m\u001b[0mchar_idx\u001b[0m\u001b[0;34m]\u001b[0m\u001b[0;34m\u001b[0m\u001b[0;34m\u001b[0m\u001b[0m\n\u001b[1;32m      8\u001b[0m \u001b[0;34m\u001b[0m\u001b[0m\n\u001b[0;32m----> 9\u001b[0;31m \u001b[0mget_next_char\u001b[0m\u001b[0;34m(\u001b[0m\u001b[0mmodel\u001b[0m\u001b[0;34m,\u001b[0m \u001b[0;34m'for thos'\u001b[0m\u001b[0;34m)\u001b[0m\u001b[0;34m\u001b[0m\u001b[0;34m\u001b[0m\u001b[0m\n\u001b[0m",
            "\u001b[0;31mNameError\u001b[0m: name 'model' is not defined"
          ]
        }
      ]
    },
    {
      "cell_type": "markdown",
      "metadata": {
        "id": "yDvQ8U_HMCbL",
        "colab_type": "text"
      },
      "source": [
        "Since the model is getting better, we can now try to generate more than one character of text. All we need is an initial seed of 8 characters and it can go on as long as we like. To do this, we'll create a simple helper function that continuously predicts the next character using the last 8 characters that it spit out (starting with the seed value).\n",
        "\n"
      ]
    },
    {
      "cell_type": "code",
      "metadata": {
        "id": "U-xaqH25MI5r",
        "colab_type": "code",
        "colab": {}
      },
      "source": [
        "def get_next_n_chars(model, s, n):\n",
        "    r = s\n",
        "    for i in range(n):\n",
        "        c = get_next_char(model, s)\n",
        "        r += c\n",
        "        s = s[1:] + c\n",
        "    return r\n",
        "\n",
        "get_next_n_chars(model, 'for thos', 40)\n",
        "Out[30]:\n"
      ],
      "execution_count": 0,
      "outputs": []
    },
    {
      "cell_type": "markdown",
      "metadata": {
        "id": "EkRqX5bgMM2X",
        "colab_type": "text"
      },
      "source": [
        "It's definitely getting better. There are more improvements we can make though! In the current model, each instance of the data is completely independent. When a new sequence comes in, the model has no idea what came before that sequence. That \"hidden state\" mentioned earlier (which is now part of the RNN layer) gets thrown away. However, there's a way we can set this up that persists that hidden state through to the next part of the sequence. In other words, it conditions the output not only on the current 8 characters but all the characters that came before it as well.\n",
        "\n",
        "The good news is that this capability is built into Keras's recurrent layers, we just need to set a flag to true! The bad news is that we need to re-think how the data is structured. Stateful models require 1) a fixed batch size, which is specified in the model input, and 2) that each batch be a \"slice\" of sequences such that the next batch contains the next part of each sequence. In other words, we need to split up our data (which is one long continuous stream of text) into n chunks of equal-length streams of text, where n is the batch size. Then, we need to carve up these n chunks into sequences of length 8 (which is the sequence length the model looks at) with the following character in each sequence being the target (the thing we're predicting).\n",
        "\n",
        "If that sounds confusing and complicated, that's because it is. It took me a while to make sense of it (and figure out how to express it in code) but hopefully you can follow along. Below is the first step, which splits the data up into chunks and stacks them vertically into an array. The result is 64 equal-length continuous sequences of text."
      ]
    },
    {
      "cell_type": "code",
      "metadata": {
        "id": "aWJj6rmuMQge",
        "colab_type": "code",
        "colab": {}
      },
      "source": [
        "bs = 64\n",
        "seg_len = len(text) // bs\n",
        "segments = [idx[i*seg_len:(i+1)*seg_len] for i in range(bs)]\n",
        "segments = np.stack(segments)\n",
        "\n",
        "segments.shape"
      ],
      "execution_count": 0,
      "outputs": []
    },
    {
      "cell_type": "markdown",
      "metadata": {
        "id": "HXmAcdKbMSY9",
        "colab_type": "text"
      },
      "source": [
        "Below we're creating a list of lists, where each sub-list is an 8-character sequence. The second list is offset by one (this is our target).\n",
        "\n"
      ]
    },
    {
      "cell_type": "code",
      "metadata": {
        "id": "UMv3Yg9IMWAQ",
        "colab_type": "code",
        "colab": {
          "base_uri": "https://localhost:8080/",
          "height": 181
        },
        "outputId": "bc8d7b4e-35cd-4bf0-f1b4-3b54f67e2334"
      },
      "source": [
        "c_in = [segments[:,i*cs:(i+1)*cs] for i in range(seg_len // cs)]\n",
        "c_out = [segments[:,(i*cs)+1:((i+1)*cs)+1] for i in range(seg_len // cs)]"
      ],
      "execution_count": 2,
      "outputs": [
        {
          "output_type": "error",
          "ename": "NameError",
          "evalue": "ignored",
          "traceback": [
            "\u001b[0;31m---------------------------------------------------------------------------\u001b[0m",
            "\u001b[0;31mNameError\u001b[0m                                 Traceback (most recent call last)",
            "\u001b[0;32m<ipython-input-2-0ef91d3eec77>\u001b[0m in \u001b[0;36m<module>\u001b[0;34m()\u001b[0m\n\u001b[0;32m----> 1\u001b[0;31m \u001b[0mc_in\u001b[0m \u001b[0;34m=\u001b[0m \u001b[0;34m[\u001b[0m\u001b[0msegments\u001b[0m\u001b[0;34m[\u001b[0m\u001b[0;34m:\u001b[0m\u001b[0;34m,\u001b[0m\u001b[0mi\u001b[0m\u001b[0;34m*\u001b[0m\u001b[0mcs\u001b[0m\u001b[0;34m:\u001b[0m\u001b[0;34m(\u001b[0m\u001b[0mi\u001b[0m\u001b[0;34m+\u001b[0m\u001b[0;36m1\u001b[0m\u001b[0;34m)\u001b[0m\u001b[0;34m*\u001b[0m\u001b[0mcs\u001b[0m\u001b[0;34m]\u001b[0m \u001b[0;32mfor\u001b[0m \u001b[0mi\u001b[0m \u001b[0;32min\u001b[0m \u001b[0mrange\u001b[0m\u001b[0;34m(\u001b[0m\u001b[0mseg_len\u001b[0m \u001b[0;34m//\u001b[0m \u001b[0mcs\u001b[0m\u001b[0;34m)\u001b[0m\u001b[0;34m]\u001b[0m\u001b[0;34m\u001b[0m\u001b[0;34m\u001b[0m\u001b[0m\n\u001b[0m\u001b[1;32m      2\u001b[0m \u001b[0mc_out\u001b[0m \u001b[0;34m=\u001b[0m \u001b[0;34m[\u001b[0m\u001b[0msegments\u001b[0m\u001b[0;34m[\u001b[0m\u001b[0;34m:\u001b[0m\u001b[0;34m,\u001b[0m\u001b[0;34m(\u001b[0m\u001b[0mi\u001b[0m\u001b[0;34m*\u001b[0m\u001b[0mcs\u001b[0m\u001b[0;34m)\u001b[0m\u001b[0;34m+\u001b[0m\u001b[0;36m1\u001b[0m\u001b[0;34m:\u001b[0m\u001b[0;34m(\u001b[0m\u001b[0;34m(\u001b[0m\u001b[0mi\u001b[0m\u001b[0;34m+\u001b[0m\u001b[0;36m1\u001b[0m\u001b[0;34m)\u001b[0m\u001b[0;34m*\u001b[0m\u001b[0mcs\u001b[0m\u001b[0;34m)\u001b[0m\u001b[0;34m+\u001b[0m\u001b[0;36m1\u001b[0m\u001b[0;34m]\u001b[0m \u001b[0;32mfor\u001b[0m \u001b[0mi\u001b[0m \u001b[0;32min\u001b[0m \u001b[0mrange\u001b[0m\u001b[0;34m(\u001b[0m\u001b[0mseg_len\u001b[0m \u001b[0;34m//\u001b[0m \u001b[0mcs\u001b[0m\u001b[0;34m)\u001b[0m\u001b[0;34m]\u001b[0m\u001b[0;34m\u001b[0m\u001b[0;34m\u001b[0m\u001b[0m\n",
            "\u001b[0;31mNameError\u001b[0m: name 'seg_len' is not defined"
          ]
        }
      ]
    },
    {
      "cell_type": "markdown",
      "metadata": {
        "id": "VaJ_i1tNMXRY",
        "colab_type": "text"
      },
      "source": [
        "Now we just need to concatenate and reshape these into arrays that we can use with the model. We end up with ~75,000 chunks of unique 8-character sequences.\n",
        "\n"
      ]
    },
    {
      "cell_type": "code",
      "metadata": {
        "id": "9hTZJ4oqMeXL",
        "colab_type": "code",
        "colab": {}
      },
      "source": [
        "X = np.concatenate(c_in)\n",
        "X = X.reshape((X.shape[0], X.shape[1], 1))\n",
        "y = np.concatenate(c_out)\n",
        "y_cat = keras.utils.to_categorical(y)"
      ],
      "execution_count": 0,
      "outputs": []
    },
    {
      "cell_type": "code",
      "metadata": {
        "id": "a_7-i3MiMkUJ",
        "colab_type": "code",
        "colab": {}
      },
      "source": [
        "X.shape, y_cat.shape"
      ],
      "execution_count": 0,
      "outputs": []
    },
    {
      "cell_type": "markdown",
      "metadata": {
        "id": "QBUltKh6MmfC",
        "colab_type": "text"
      },
      "source": [
        "\n",
        "Crucially, they are ordered such that the 65th row is a continuation of the 1st row, the 66th row is a continuation of the 2nd row, and so on all the way down."
      ]
    },
    {
      "cell_type": "code",
      "metadata": {
        "id": "oE_gcXfRMpNN",
        "colab_type": "code",
        "colab": {}
      },
      "source": [
        "''.join(indices_char[i] for i in np.concatenate((X[0,:,0], X[64,:,0], X[128,:,0])))"
      ],
      "execution_count": 0,
      "outputs": []
    },
    {
      "cell_type": "markdown",
      "metadata": {
        "id": "0DbwwAtcMqpQ",
        "colab_type": "text"
      },
      "source": [
        "Next we can create the stateful RNN model. It's similar to the last one but there are a few wrinkles. The input specifies \"batch_shape\" and has three dimensions (this is a hard requirement to use stateful RNNs in Keras, and gets quite annoying during inference time). We've set \"return_sequences\" to true, which changes the shape that the RNN returns and gives us an output for each step in the sequence. We've set \"stateful\" to true, the motivation for which was already discussed. Finally, we've wrapped the last dense layer with \"TimeDistributed\". This is because the RNN is now returning a higher-dimensional array to account for the output at each timestep. Everything else works basically the same way."
      ]
    },
    {
      "cell_type": "code",
      "metadata": {
        "id": "OaHFcK5NMrSe",
        "colab_type": "code",
        "colab": {}
      },
      "source": [
        "def CharStatefulRnn(vocab_size, n_chars, n_factors, n_hidden, bs):\n",
        "    i = Input(batch_shape=(bs, n_chars, 1))\n",
        "    x = TimeDistributed(Embedding(vocab_size, n_factors))(i)\n",
        "    x = Reshape((n_chars, n_factors))(x)\n",
        "    x = SimpleRNN(n_hidden, activation='tanh', return_sequences=True, stateful=True)(x)\n",
        "    x = TimeDistributed(Dense(vocab_size, activation='softmax'))(x)\n",
        "\n",
        "    model = Model(inputs=i, outputs=x)\n",
        "    opt = Adam(lr=0.001)\n",
        "    model.compile(loss='categorical_crossentropy', optimizer=opt)\n",
        "\n",
        "    return model"
      ],
      "execution_count": 0,
      "outputs": []
    },
    {
      "cell_type": "markdown",
      "metadata": {
        "id": "njkBMgs0MthX",
        "colab_type": "text"
      },
      "source": [
        "Looking at the output shapes, we can see the effect of turning on \"return_sequences\". Note that the number of model parameters has not changed. The complexity is identical, we've just changed the task and the information available to solve it."
      ]
    },
    {
      "cell_type": "code",
      "metadata": {
        "id": "8cVC3J5OMvQF",
        "colab_type": "code",
        "colab": {}
      },
      "source": [
        "model = CharStatefulRnn(vocab_size, cs, n_factors, n_hidden, bs)\n",
        "model.summary()"
      ],
      "execution_count": 0,
      "outputs": []
    },
    {
      "cell_type": "markdown",
      "metadata": {
        "id": "npTOlGX8M2c9",
        "colab_type": "text"
      },
      "source": [
        "One quirk of using stateful RNNs is that we now have to manually reset the model state, it never goes away until we tell it to. I just created a simple callback that resets the state at the end of every epoch.\n",
        "\n",
        "\n"
      ]
    },
    {
      "cell_type": "code",
      "metadata": {
        "id": "9kE0DwwuM5lu",
        "colab_type": "code",
        "colab": {}
      },
      "source": [
        "from keras.callbacks import Callback\n",
        "\n",
        "class ResetModelState(Callback):    \n",
        "    def on_epoch_end(self, epoch, logs):\n",
        "        self.model.reset_states()\n",
        "\n",
        "reset_state = ResetModelState()"
      ],
      "execution_count": 0,
      "outputs": []
    },
    {
      "cell_type": "markdown",
      "metadata": {
        "id": "HfDxpBScM7Es",
        "colab_type": "text"
      },
      "source": [
        "Train the model for a while as before, with the addition of the callback to reset state between epochs.\n",
        "\n"
      ]
    },
    {
      "cell_type": "code",
      "metadata": {
        "id": "cOlctLcvM7-1",
        "colab_type": "code",
        "colab": {}
      },
      "source": [
        "model.fit(x=X, y=y_cat, batch_size=bs, epochs=8, verbose=1, callbacks=[reset_state], shuffle=False)\n"
      ],
      "execution_count": 0,
      "outputs": []
    },
    {
      "cell_type": "code",
      "metadata": {
        "id": "Iipwu-CRM_Z0",
        "colab_type": "code",
        "colab": {}
      },
      "source": [
        "\n",
        "K.set_value(model.optimizer.lr, 0.0001)\n",
        "model.fit(x=X, y=y_cat, batch_size=bs, epochs=3, verbose=1, callbacks=[reset_state], shuffle=False)"
      ],
      "execution_count": 0,
      "outputs": []
    },
    {
      "cell_type": "markdown",
      "metadata": {
        "id": "RZq4vBdzNBhM",
        "colab_type": "text"
      },
      "source": [
        "The \"get next\" functions need to be updated since our approach has changed. One of the annoying things about stateful models is the batch size is fixed, so even when making a prediction it needs an array of the same size, no matter if we just want to predict one sequence. I got around this with some numpy hackery.\n",
        "\n"
      ]
    },
    {
      "cell_type": "code",
      "metadata": {
        "id": "zwl7w79LNDHV",
        "colab_type": "code",
        "colab": {}
      },
      "source": [
        "\n",
        "def get_next_char(model, bs, s):\n",
        "    idxs = np.array([char_indices[c] for c in s])\n",
        "    idxs = idxs.reshape((1, idxs.shape[0], 1))\n",
        "    idxs = np.repeat(idxs, bs, axis=0)\n",
        "    pred = model.predict(idxs, batch_size=bs)\n",
        "    char_idx = np.argmax(pred[0, 7])\n",
        "    return chars[char_idx]\n",
        "\n",
        "def get_next_n_chars(model, bs, s, n):\n",
        "    r = s\n",
        "    for i in range(n):\n",
        "        c = get_next_char(model, bs, s)\n",
        "        r += c\n",
        "        s = s[1:] + c\n",
        "    return r"
      ],
      "execution_count": 0,
      "outputs": []
    },
    {
      "cell_type": "code",
      "metadata": {
        "id": "OHM-K2OUNFsk",
        "colab_type": "code",
        "colab": {}
      },
      "source": [
        "get_next_n_chars(model, bs, 'for thos', 40)\n"
      ],
      "execution_count": 0,
      "outputs": []
    },
    {
      "cell_type": "markdown",
      "metadata": {
        "id": "l5NHM83cNJyr",
        "colab_type": "text"
      },
      "source": [
        "\n",
        "The output is actually a bit worse than before, but we're still using simple RNNs which aren't that great to begin with. The real fun comes when we make the jump to a more complex unit like the LSTM. The details of LSTM's are beyond my scope here but there's a great blog post that everyone links to as the canonical explainer for LTMS, which you can find here. This is the easiest step yet as the only thing we need to do is replace the class name. The only other change I made is increasing the number of hidden units. Everything else stays exactly the same."
      ]
    },
    {
      "cell_type": "code",
      "metadata": {
        "id": "hFcLffGKNM5U",
        "colab_type": "code",
        "colab": {}
      },
      "source": [
        "from keras.layers import LSTM\n",
        "\n",
        "n_hidden = 512\n",
        "\n",
        "def CharStatefulLSTM(vocab_size, n_chars, n_factors, n_hidden, bs):\n",
        "    i = Input(batch_shape=(bs, n_chars, 1))\n",
        "    x = TimeDistributed(Embedding(vocab_size, n_factors))(i)\n",
        "    x = Reshape((n_chars, n_factors))(x)\n",
        "    x = LSTM(n_hidden, return_sequences=True, stateful=True)(x)\n",
        "    x = TimeDistributed(Dense(vocab_size, activation='softmax'))(x)\n",
        "\n",
        "    model = Model(inputs=i, outputs=x)\n",
        "    opt = Adam(lr=0.001)\n",
        "    model.compile(loss='categorical_crossentropy', optimizer=opt)\n",
        "\n",
        "    return model\n"
      ],
      "execution_count": 0,
      "outputs": []
    },
    {
      "cell_type": "markdown",
      "metadata": {
        "id": "PhXOEjT1NOIT",
        "colab_type": "text"
      },
      "source": [
        "LSTMs need to train for a bit longer. We'll do 20 epochs at each learning rate."
      ]
    },
    {
      "cell_type": "code",
      "metadata": {
        "id": "Znp5Vq-KNPQj",
        "colab_type": "code",
        "colab": {}
      },
      "source": [
        "model = CharStatefulLSTM(vocab_size, cs, n_factors, n_hidden, bs)\n",
        "model.fit(x=X, y=y_cat, batch_size=bs, epochs=20, verbose=1, callbacks=[reset_state], shuffle=False)"
      ],
      "execution_count": 0,
      "outputs": []
    },
    {
      "cell_type": "code",
      "metadata": {
        "id": "cQ9LbMAbNQ-z",
        "colab_type": "code",
        "colab": {}
      },
      "source": [
        "K.set_value(model.optimizer.lr, 0.0001)\n",
        "model.fit(x=X, y=y_cat, batch_size=bs, epochs=20, verbose=1, callbacks=[reset_state], shuffle=False)"
      ],
      "execution_count": 0,
      "outputs": []
    },
    {
      "cell_type": "markdown",
      "metadata": {
        "id": "hxtj8vk5NSuJ",
        "colab_type": "text"
      },
      "source": [
        "Final product!!"
      ]
    },
    {
      "cell_type": "code",
      "metadata": {
        "id": "D9X1qCMNNUNA",
        "colab_type": "code",
        "colab": {}
      },
      "source": [
        "pprint(get_next_n_chars(model, bs, 'for thos', 400))\n"
      ],
      "execution_count": 0,
      "outputs": []
    },
    {
      "cell_type": "markdown",
      "metadata": {
        "id": "S8d8z2ACNX_m",
        "colab_type": "text"
      },
      "source": [
        "The predictions although not sophisticated but are resaonably sensible. "
      ]
    }
  ]
}